{
 "cells": [
  {
   "cell_type": "code",
   "execution_count": 1,
   "metadata": {},
   "outputs": [],
   "source": [
    "# General packages\n",
    "import requests\n",
    "import json\n",
    "import time\n",
    "import datetime\n",
    "import random\n",
    "import os\n",
    "import sys\n",
    "\n",
    "# data / numerical handling\n",
    "import pandas as pd\n",
    "import numpy as np\n",
    "\n",
    "# data visualization\n",
    "import seaborn as sb\n",
    "import matplotlib as mp\n",
    "\n",
    "# Scraping libraries\n",
    "from bs4 import BeautifulSoup as bs4\n",
    "\n",
    "# Scraping functions\n",
    "from evtolnews_scrapefuncs import *\n"
   ]
  },
  {
   "cell_type": "markdown",
   "metadata": {},
   "source": [
    "# Overview"
   ]
  },
  {
   "cell_type": "markdown",
   "metadata": {},
   "source": [
    "#### About\n",
    "This notebook contains code for webscraping data on eVTOL / UAM aircraft from https://evtol.news/\n",
    "\n",
    "#### Packages\n",
    "* [BeautifulSoup](https://www.crummy.com/software/BeautifulSoup/bs4/doc/) \n",
    "* Standard libraries across Python 3* Anaconda distribution.\n",
    "\n",
    "#### Files\n",
    "* Jupyter Notebook for analysis: evtolnews_scrape.ipynb\n",
    "* Python files for custom functions\n",
    "    * evtolnews_scrapefuncs.py\n",
    "    \n",
    "* .csv files for read and writing to dataframes\n",
    "    * evtolnews_directory_{date}.csv --> dataframe of aircraft links (to scrape)\n",
    "    * evtolnews_results_df_{date}.csv --> dataframe of scraped and cleaned aircraft data\n",
    "* .jpeg images for flowchart images\n",
    "    * evtolnews_overview_flowchart.jpeg\n",
    "    * evtolnews_append_logic_flowchart.jpeg"
   ]
  },
  {
   "cell_type": "markdown",
   "metadata": {},
   "source": [
    "# Program Flowchart"
   ]
  },
  {
   "cell_type": "markdown",
   "metadata": {},
   "source": [
    "![](evtolnews_overview_flowchart.jpeg)"
   ]
  },
  {
   "cell_type": "markdown",
   "metadata": {},
   "source": [
    "# Part I -- Scrape eVTOL News Directory"
   ]
  },
  {
   "cell_type": "markdown",
   "metadata": {},
   "source": [
    "## Build dataframe\n",
    "\n",
    "* The unique evtol.news/... link is used as the index / identifier for each aircraft\n",
    "* Example: https://evtol.news/embraer-pulse-concept"
   ]
  },
  {
   "cell_type": "code",
   "execution_count": 2,
   "metadata": {},
   "outputs": [],
   "source": [
    "evtolnews_directory = get_acdirectory()"
   ]
  },
  {
   "cell_type": "code",
   "execution_count": 3,
   "metadata": {},
   "outputs": [
    {
     "data": {
      "text/html": [
       "<div>\n",
       "<style scoped>\n",
       "    .dataframe tbody tr th:only-of-type {\n",
       "        vertical-align: middle;\n",
       "    }\n",
       "\n",
       "    .dataframe tbody tr th {\n",
       "        vertical-align: top;\n",
       "    }\n",
       "\n",
       "    .dataframe thead th {\n",
       "        text-align: right;\n",
       "    }\n",
       "</style>\n",
       "<table border=\"1\" class=\"dataframe\">\n",
       "  <thead>\n",
       "    <tr style=\"text-align: right;\">\n",
       "      <th></th>\n",
       "      <th>links</th>\n",
       "      <th>category</th>\n",
       "    </tr>\n",
       "  </thead>\n",
       "  <tbody>\n",
       "    <tr>\n",
       "      <th>0</th>\n",
       "      <td>https://evtol.news/a2-cal-aptos-blue</td>\n",
       "      <td>Vectored Thrust</td>\n",
       "    </tr>\n",
       "    <tr>\n",
       "      <th>1</th>\n",
       "      <td>http://evtol.news/a3-by-airbus/</td>\n",
       "      <td>Vectored Thrust</td>\n",
       "    </tr>\n",
       "    <tr>\n",
       "      <th>2</th>\n",
       "      <td>https://evtol.news/acs-aviation-z-300/</td>\n",
       "      <td>Vectored Thrust</td>\n",
       "    </tr>\n",
       "    <tr>\n",
       "      <th>3</th>\n",
       "      <td>https://evtol.news/advanced-research-foundatio...</td>\n",
       "      <td>Vectored Thrust</td>\n",
       "    </tr>\n",
       "    <tr>\n",
       "      <th>4</th>\n",
       "      <td>https://evtol.news/advanced-system-engineering...</td>\n",
       "      <td>Vectored Thrust</td>\n",
       "    </tr>\n",
       "  </tbody>\n",
       "</table>\n",
       "</div>"
      ],
      "text/plain": [
       "                                               links         category\n",
       "0               https://evtol.news/a2-cal-aptos-blue  Vectored Thrust\n",
       "1                    http://evtol.news/a3-by-airbus/  Vectored Thrust\n",
       "2             https://evtol.news/acs-aviation-z-300/  Vectored Thrust\n",
       "3  https://evtol.news/advanced-research-foundatio...  Vectored Thrust\n",
       "4  https://evtol.news/advanced-system-engineering...  Vectored Thrust"
      ]
     },
     "execution_count": 3,
     "metadata": {},
     "output_type": "execute_result"
    }
   ],
   "source": [
    "evtolnews_directory.head()"
   ]
  },
  {
   "cell_type": "markdown",
   "metadata": {},
   "source": [
    "## Inspect dataframe \n",
    "\n",
    "* shows # of duplicate links if exists\n",
    "* sum of total aircrafts (links)\n",
    "* num of aircraft categories\n",
    "* category counts"
   ]
  },
  {
   "cell_type": "code",
   "execution_count": 4,
   "metadata": {},
   "outputs": [
    {
     "name": "stdout",
     "output_type": "stream",
     "text": [
      "There are: 0 duplicate aircraft links\n",
      "There are: 482 aircraft\n",
      "There are: 5 aircraft categories\n"
     ]
    },
    {
     "data": {
      "text/plain": [
       "Vectored Thrust                        157\n",
       "Wingless (Multicopter)                 132\n",
       "Hover Bikes/Personal Flying Devices     82\n",
       "Lift + Cruise                           78\n",
       "Electric Rotorcraft                     33\n",
       "Name: category, dtype: int64"
      ]
     },
     "execution_count": 4,
     "metadata": {},
     "output_type": "execute_result"
    }
   ],
   "source": [
    "# print duplicate links if any\n",
    "print(\"There are:\", len(evtolnews_directory[evtolnews_directory['links'].duplicated() == True]),\"duplicate aircraft links\")\n",
    "\n",
    "print(\"There are:\", len(evtolnews_directory), \"aircraft\")\n",
    "\n",
    "print(\"There are:\", len(evtolnews_directory['category'].value_counts()), \"aircraft categories\")\n",
    "      \n",
    "# show aircraft category counts\n",
    "evtolnews_directory['category'].value_counts()"
   ]
  },
  {
   "cell_type": "markdown",
   "metadata": {},
   "source": [
    "## Optional -- send to .csv\n",
    "\n",
    "* Sends updated current aircraft directory dataframe to .csv with today() date stamp"
   ]
  },
  {
   "cell_type": "code",
   "execution_count": 5,
   "metadata": {},
   "outputs": [],
   "source": [
    "# builds .csv with today's date\n",
    "today = datetime.date.today()\n",
    "evtolnews_directory.to_csv('evtolnews_directory_{}.{}.{}.csv'.format(today.month, today.day, today.year))"
   ]
  },
  {
   "cell_type": "markdown",
   "metadata": {},
   "source": [
    "# Part II - Scrape eVTOL.news Aircraft Pages\n",
    "\n",
    "The code below loops through the links in the 'evtolnews_directory' dataframe and scrapes additional data for each aircraft, building a new dataframe, 'new_acdf' which is updated at a specified increment by the 'pandas.DataFrame.append()' method."
   ]
  },
  {
   "cell_type": "markdown",
   "metadata": {},
   "source": [
    "# Get aircraft data\n",
    "\n",
    "Loop through aircraft links to append results dataframe with additional aircraft data"
   ]
  },
  {
   "cell_type": "markdown",
   "metadata": {},
   "source": [
    "### Dataframe append logic flowchart"
   ]
  },
  {
   "cell_type": "markdown",
   "metadata": {},
   "source": [
    "![](evtolnews_append_logic_flowchart.jpeg)"
   ]
  },
  {
   "cell_type": "markdown",
   "metadata": {},
   "source": [
    "## Instantiate empty dataframe\n",
    "\n",
    "To be populated with data in the scrape functions.\n",
    "\n",
    "If you are updating an existing dataframe, skip this step."
   ]
  },
  {
   "cell_type": "code",
   "execution_count": 7,
   "metadata": {},
   "outputs": [
    {
     "data": {
      "text/html": [
       "<div>\n",
       "<style scoped>\n",
       "    .dataframe tbody tr th:only-of-type {\n",
       "        vertical-align: middle;\n",
       "    }\n",
       "\n",
       "    .dataframe tbody tr th {\n",
       "        vertical-align: top;\n",
       "    }\n",
       "\n",
       "    .dataframe thead th {\n",
       "        text-align: right;\n",
       "    }\n",
       "</style>\n",
       "<table border=\"1\" class=\"dataframe\">\n",
       "  <thead>\n",
       "    <tr style=\"text-align: right;\">\n",
       "      <th></th>\n",
       "      <th>link</th>\n",
       "      <th>category</th>\n",
       "      <th>name</th>\n",
       "      <th>oem</th>\n",
       "      <th>model</th>\n",
       "      <th>status</th>\n",
       "      <th>aircraft_website</th>\n",
       "      <th>address</th>\n",
       "      <th>about</th>\n",
       "      <th>resources</th>\n",
       "      <th>specs</th>\n",
       "    </tr>\n",
       "  </thead>\n",
       "  <tbody>\n",
       "  </tbody>\n",
       "</table>\n",
       "</div>"
      ],
      "text/plain": [
       "Empty DataFrame\n",
       "Columns: [link, category, name, oem, model, status, aircraft_website, address, about, resources, specs]\n",
       "Index: []"
      ]
     },
     "execution_count": 7,
     "metadata": {},
     "output_type": "execute_result"
    }
   ],
   "source": [
    "# columns to populate\n",
    "results_df_cols = ['link', 'category', 'name', 'oem', 'model', 'status', 'aircraft_website', 'address', 'about', 'resources', 'specs']\n",
    "\n",
    "# build dataframe\n",
    "results_df = pd.DataFrame(data = None, columns = results_df_cols)\n",
    "results_df.head()"
   ]
  },
  {
   "cell_type": "markdown",
   "metadata": {},
   "source": [
    "## Run the cell below to scrape aircraft data"
   ]
  },
  {
   "cell_type": "code",
   "execution_count": 9,
   "metadata": {},
   "outputs": [
    {
     "name": "stdout",
     "output_type": "stream",
     "text": [
      "start time:  Thu Jul  8 18:23:45 2021\n",
      "end time:  Thu Jul  8 18:24:04 2021\n",
      "\n",
      "total runtime:  19.362569332122803\n"
     ]
    }
   ],
   "source": [
    "# PARAMETERS\n",
    "\n",
    "# start_ind --> start of 'links' index -- what link to start checking on \n",
    "# stop_ind --> End of 'links' index -- what link to stop checking on\n",
    "# df --> source dataframe for 'links' and 'category'\n",
    "# results_df --> dataframe to be updated and returned\n",
    "\n",
    "# WARNING -- this takes ~10 seconds per link to scrape \n",
    "# if you have a big dataset, consider moving in small chunks\n",
    "\n",
    "# This runs a small batch [0:2].\n",
    "new_acdf = scrape_appendnew(0, 2, evtolnews_directory, results_df)"
   ]
  },
  {
   "cell_type": "markdown",
   "metadata": {},
   "source": [
    "## How many left to scrape"
   ]
  },
  {
   "cell_type": "code",
   "execution_count": 74,
   "metadata": {},
   "outputs": [
    {
     "name": "stdout",
     "output_type": "stream",
     "text": [
      "http://evtol.news/aeroxo-lv-era-aviabike/\n",
      "https://evtol.news/daymak-avvenire-skyrider\n",
      "there are:  2 links left to scrape\n"
     ]
    }
   ],
   "source": [
    "count = 0\n",
    "for link in df['links']:\n",
    "    if link not in list(results_df['link']):\n",
    "        print(link)\n",
    "        count +=1\n",
    "print('there are: ', count, 'links left to scrape')"
   ]
  },
  {
   "cell_type": "markdown",
   "metadata": {},
   "source": [
    "## Send to .csv"
   ]
  },
  {
   "cell_type": "code",
   "execution_count": 77,
   "metadata": {},
   "outputs": [],
   "source": [
    "# builds .csv with today's date\n",
    "# today = datetime.date.today()\n",
    "# results_df.to_csv('results_df_{}.{}.{}.csv'.format(today.month, today.day, today.year))"
   ]
  },
  {
   "cell_type": "markdown",
   "metadata": {},
   "source": [
    "# Part III - Optional -- update existing df"
   ]
  },
  {
   "cell_type": "markdown",
   "metadata": {},
   "source": [
    "### Read in existing dataframes"
   ]
  },
  {
   "cell_type": "code",
   "execution_count": 7,
   "metadata": {},
   "outputs": [],
   "source": [
    "# read in stored .csv on local machine\n",
    "# verify file name date, change as needed\n",
    "current_df = pd.read_csv('results_df_7.9.2021.csv')\n",
    "evtolnews_directory = pd.read_csv('evtolnews_directory_7.12.2021.csv')\n",
    "\n",
    "# drops auto-index generated by .csv file\n",
    "if 'Unnamed: 0' in list(current_df.columns):\n",
    "    current_df.drop(columns = ['Unnamed: 0'], inplace = True)\n",
    "else: None\n",
    "    \n",
    "if 'Unnamed: 0' in list(evtolnews_directory.columns):\n",
    "    evtolnews_directory.drop(columns = ['Unnamed: 0'], inplace = True)\n",
    "else: None"
   ]
  },
  {
   "cell_type": "code",
   "execution_count": 10,
   "metadata": {},
   "outputs": [
    {
     "data": {
      "text/plain": [
       "True"
      ]
     },
     "execution_count": 10,
     "metadata": {},
     "output_type": "execute_result"
    }
   ],
   "source": [
    "len(current_df.shape) == len(evtolnews_directory.shape)"
   ]
  },
  {
   "cell_type": "markdown",
   "metadata": {},
   "source": [
    "### Example\n",
    "\n",
    "#### Criteria:\n",
    "\n",
    "* We have a dataframe named, current_df.\n",
    "\n",
    "* We want to update current_df with any new aircraft data if it exists.\n",
    "\n",
    "* Run the functions below."
   ]
  },
  {
   "cell_type": "markdown",
   "metadata": {},
   "source": [
    "### Check for updates"
   ]
  },
  {
   "cell_type": "code",
   "execution_count": 11,
   "metadata": {},
   "outputs": [
    {
     "data": {
      "text/plain": [
       "'Your df is up to date. No update needed.'"
      ]
     },
     "execution_count": 11,
     "metadata": {},
     "output_type": "execute_result"
    }
   ],
   "source": [
    "# pulls current aircraft directory, reports status\n",
    "check_updates(evtolnews_directory, current_df)"
   ]
  },
  {
   "cell_type": "markdown",
   "metadata": {},
   "source": [
    "### Update your dataframe\n",
    "\n",
    "* Use the scrape_appendnew method on your dataframe if it needs to be updated\n",
    "\n",
    "* adjust start_ind and stop_ind as needed"
   ]
  },
  {
   "cell_type": "code",
   "execution_count": 12,
   "metadata": {},
   "outputs": [
    {
     "name": "stdout",
     "output_type": "stream",
     "text": [
      "start time:  Mon Jul 12 12:09:50 2021\n",
      "end time:  Mon Jul 12 12:09:59 2021\n",
      "\n",
      "total runtime:  8.53209400177002\n"
     ]
    }
   ],
   "source": [
    "# WARNING -- this takes ~10 seconds per link to scrape \n",
    "# if you have a big dataset, consider moving in small chunks\n",
    "\n",
    "updated_df = scrape_appendnew(0, len(evtolnews_directory), \\\n",
    "                              evtolnews_directory, current_df\n",
    "                              )"
   ]
  },
  {
   "cell_type": "markdown",
   "metadata": {},
   "source": [
    "### inspect updated dataframe"
   ]
  },
  {
   "cell_type": "code",
   "execution_count": 13,
   "metadata": {},
   "outputs": [
    {
     "data": {
      "text/html": [
       "<div>\n",
       "<style scoped>\n",
       "    .dataframe tbody tr th:only-of-type {\n",
       "        vertical-align: middle;\n",
       "    }\n",
       "\n",
       "    .dataframe tbody tr th {\n",
       "        vertical-align: top;\n",
       "    }\n",
       "\n",
       "    .dataframe thead th {\n",
       "        text-align: right;\n",
       "    }\n",
       "</style>\n",
       "<table border=\"1\" class=\"dataframe\">\n",
       "  <thead>\n",
       "    <tr style=\"text-align: right;\">\n",
       "      <th></th>\n",
       "      <th>link</th>\n",
       "      <th>category</th>\n",
       "      <th>name</th>\n",
       "      <th>oem</th>\n",
       "      <th>model</th>\n",
       "      <th>status</th>\n",
       "      <th>aircraft_website</th>\n",
       "      <th>address</th>\n",
       "      <th>about</th>\n",
       "      <th>resources</th>\n",
       "      <th>specs</th>\n",
       "    </tr>\n",
       "  </thead>\n",
       "  <tbody>\n",
       "    <tr>\n",
       "      <th>478</th>\n",
       "      <td>http://evtol.news/zuri/</td>\n",
       "      <td>Lift + Cruise</td>\n",
       "      <td>Zuri</td>\n",
       "      <td>Zuri SE</td>\n",
       "      <td>Zuri</td>\n",
       "      <td>active</td>\n",
       "      <td>https://zuri.com/</td>\n",
       "      <td>Prague, Czech Republic</td>\n",
       "      <td>In 2017, Czech entrepreneur Michal Illich bega...</td>\n",
       "      <td>['https://zuri.com/', 'https://www.facebook.co...</td>\n",
       "      <td>NaN</td>\n",
       "    </tr>\n",
       "    <tr>\n",
       "      <th>479</th>\n",
       "      <td>https://evtol.news/aerofex-aero-x</td>\n",
       "      <td>Hover Bikes/Personal Flying Devices</td>\n",
       "      <td>Aerofex Aero-X</td>\n",
       "      <td>Aerofex</td>\n",
       "      <td>Aero-X</td>\n",
       "      <td>active</td>\n",
       "      <td>https://aerofex.com/</td>\n",
       "      <td>Manhattan Beach, California, USA</td>\n",
       "      <td>Based on Los Angeles, California, USA, Aerofex...</td>\n",
       "      <td>['https://aerofex.com/', 'https://twitter.com/...</td>\n",
       "      <td>['Aircraft type: eVTOL, hybrid-electric VTOL, ...</td>\n",
       "    </tr>\n",
       "    <tr>\n",
       "      <th>480</th>\n",
       "      <td>https://evtol.news/aerofex-aero-x-nautical</td>\n",
       "      <td>Hover Bikes/Personal Flying Devices</td>\n",
       "      <td>Aerofex Aero-X Nautical</td>\n",
       "      <td>Aerofex</td>\n",
       "      <td>Aero-X</td>\n",
       "      <td>active</td>\n",
       "      <td>https://aerofex.com/</td>\n",
       "      <td>Manhattan Beach, California, USA</td>\n",
       "      <td>Based on Los Angeles, California, USA, Aerofex...</td>\n",
       "      <td>['https://aerofex.com/', 'https://twitter.com/...</td>\n",
       "      <td>['Aircraft type: eVTOL, hybrid-electric VTOL, ...</td>\n",
       "    </tr>\n",
       "    <tr>\n",
       "      <th>481</th>\n",
       "      <td>http://evtol.news/aeroxo-lv-era-aviabike/</td>\n",
       "      <td>Hover Bikes/Personal Flying Devices</td>\n",
       "      <td>Aeroxo LV ERA Aviabike</td>\n",
       "      <td>Aeroxo LV</td>\n",
       "      <td>ERA Aviabike</td>\n",
       "      <td>active</td>\n",
       "      <td>http://aeroxo.ru/</td>\n",
       "      <td>Riga, Latvia and Moscow, Russia</td>\n",
       "      <td>Aeroxo’s LV ERA Aviabike is a battery powered ...</td>\n",
       "      <td>['http://aeroxo.ru/', 'http://aviabike.aeroxo....</td>\n",
       "      <td>[]</td>\n",
       "    </tr>\n",
       "    <tr>\n",
       "      <th>482</th>\n",
       "      <td>https://evtol.news/next-ifly</td>\n",
       "      <td>Electric Rotorcraft</td>\n",
       "      <td>NeXt iFLY</td>\n",
       "      <td>NeXt UAS</td>\n",
       "      <td>iFLY</td>\n",
       "      <td>active</td>\n",
       "      <td>https://nextuas.com/</td>\n",
       "      <td>None</td>\n",
       "      <td>NeXt UAS was founded in 2016 to produce eVTOL ...</td>\n",
       "      <td>[https://nextuas.com/, https://www.youtube.com...</td>\n",
       "      <td>[Aircraft type: Single passenger eVTOL designe...</td>\n",
       "    </tr>\n",
       "  </tbody>\n",
       "</table>\n",
       "</div>"
      ],
      "text/plain": [
       "                                           link  \\\n",
       "478                     http://evtol.news/zuri/   \n",
       "479           https://evtol.news/aerofex-aero-x   \n",
       "480  https://evtol.news/aerofex-aero-x-nautical   \n",
       "481   http://evtol.news/aeroxo-lv-era-aviabike/   \n",
       "482                https://evtol.news/next-ifly   \n",
       "\n",
       "                                category                     name        oem  \\\n",
       "478                        Lift + Cruise                     Zuri    Zuri SE   \n",
       "479  Hover Bikes/Personal Flying Devices           Aerofex Aero-X    Aerofex   \n",
       "480  Hover Bikes/Personal Flying Devices  Aerofex Aero-X Nautical    Aerofex   \n",
       "481  Hover Bikes/Personal Flying Devices   Aeroxo LV ERA Aviabike  Aeroxo LV   \n",
       "482                  Electric Rotorcraft                NeXt iFLY   NeXt UAS   \n",
       "\n",
       "            model  status      aircraft_website  \\\n",
       "478          Zuri  active    https://zuri.com/    \n",
       "479        Aero-X  active  https://aerofex.com/   \n",
       "480        Aero-X  active  https://aerofex.com/   \n",
       "481  ERA Aviabike  active     http://aeroxo.ru/   \n",
       "482          iFLY  active  https://nextuas.com/   \n",
       "\n",
       "                              address  \\\n",
       "478            Prague, Czech Republic   \n",
       "479  Manhattan Beach, California, USA   \n",
       "480  Manhattan Beach, California, USA   \n",
       "481   Riga, Latvia and Moscow, Russia   \n",
       "482                              None   \n",
       "\n",
       "                                                 about  \\\n",
       "478  In 2017, Czech entrepreneur Michal Illich bega...   \n",
       "479  Based on Los Angeles, California, USA, Aerofex...   \n",
       "480  Based on Los Angeles, California, USA, Aerofex...   \n",
       "481  Aeroxo’s LV ERA Aviabike is a battery powered ...   \n",
       "482  NeXt UAS was founded in 2016 to produce eVTOL ...   \n",
       "\n",
       "                                             resources  \\\n",
       "478  ['https://zuri.com/', 'https://www.facebook.co...   \n",
       "479  ['https://aerofex.com/', 'https://twitter.com/...   \n",
       "480  ['https://aerofex.com/', 'https://twitter.com/...   \n",
       "481  ['http://aeroxo.ru/', 'http://aviabike.aeroxo....   \n",
       "482  [https://nextuas.com/, https://www.youtube.com...   \n",
       "\n",
       "                                                 specs  \n",
       "478                                                NaN  \n",
       "479  ['Aircraft type: eVTOL, hybrid-electric VTOL, ...  \n",
       "480  ['Aircraft type: eVTOL, hybrid-electric VTOL, ...  \n",
       "481                                                 []  \n",
       "482  [Aircraft type: Single passenger eVTOL designe...  "
      ]
     },
     "execution_count": 13,
     "metadata": {},
     "output_type": "execute_result"
    }
   ],
   "source": [
    "updated_df.tail()"
   ]
  },
  {
   "cell_type": "markdown",
   "metadata": {},
   "source": [
    "### Update dataframe"
   ]
  },
  {
   "cell_type": "code",
   "execution_count": 14,
   "metadata": {},
   "outputs": [],
   "source": [
    "# builds .csv with today's date\n",
    "today = datetime.date.today()\n",
    "updated_df.to_csv('evtolnews_results_df_{}.{}.{}.csv'.format(today.month, today.day, today.year))"
   ]
  },
  {
   "cell_type": "markdown",
   "metadata": {},
   "source": [
    "## Clean Up nulls and NAs"
   ]
  },
  {
   "cell_type": "markdown",
   "metadata": {},
   "source": [
    "### On Nulls and NA response\n",
    "\n",
    "\n",
    "##### The evtol.news site sometimes varies from their standard template. This causes NAs from the scrape functions.\n",
    "\n",
    "##### Identify the columns with the most null vals and update manually or inspect their sites, and build new functions to pull correctly.\n",
    "\n",
    "##### NOTE... Getting zero null values is highly unlikely. Some manual updates will be required.\n"
   ]
  },
  {
   "cell_type": "code",
   "execution_count": 17,
   "metadata": {},
   "outputs": [],
   "source": [
    "def check_na(updated_df):\n",
    "    \"\"\" checks dataframe for NA values and returns a dictionary with columns and their NA counts sorted by counts \"\"\"\n",
    "    \n",
    "    na_cols = list(updated_df.columns)\n",
    "\n",
    "    # find number of NA values for each column if they exist\n",
    "    # build dictionary\n",
    "    na_response = {col: updated_df['{}'.format(col)].isna().value_counts()[1] for col in na_cols \\\n",
    "                   if len(updated_df['{}'.format(col)].isna().value_counts())>1}\n",
    "    \n",
    "    if len(na_response) != 0:\n",
    "        \n",
    "        # sort dict by greatest NAs count \n",
    "        new_nas = dict(sorted(na_response.items(), key = lambda item: item[1]))\n",
    "        return new_nas\n",
    "    else: return \"No NA values in the dataframe\"\n",
    "    \n",
    "def check_mostna(na_dict):\n",
    "    \"\"\" takes a dict of NA cols and counts, returns a list of tuples with column(s) with most (max) NA counts \"\"\"\n",
    "\n",
    "    maxs = []\n",
    "    for col, count in nas.items():\n",
    "        if count == max(nas.values()):\n",
    "            maxs.append((col, count))\n",
    "    return maxs"
   ]
  },
  {
   "cell_type": "code",
   "execution_count": 18,
   "metadata": {},
   "outputs": [],
   "source": [
    "\n",
    "def update_na(cols_list, aircraft_link, df):\n",
    "\n",
    "    \"\"\" \n",
    "    \n",
    "    Updates dataframe row by aircraft link key for specified list of na values.\n",
    "    \n",
    "    Params:\n",
    "    \n",
    "    cols_list --> list of cols to update. Example: ['oem', 'model']\n",
    "    ** suggested use: one column at a time for easy error isolation.\n",
    "    \n",
    "    aircraft_link --> index: str(link) to an aircraft site\n",
    "    \n",
    "    df --> dataframe to update\n",
    "    \n",
    "    NOTE** .set_index() of df to 'link' before use!\n",
    "    \n",
    "    Returns: \n",
    "    \n",
    "    Updated df\n",
    "    \n",
    "    \n",
    "    \"\"\"\n",
    "    \n",
    "    # verify that index is set to the 'link' column\n",
    "    if df.index.name != 'link':\n",
    "        df.set_index('link', inplace = True )\n",
    "    else: None\n",
    "    \n",
    "    # get soup object\n",
    "    acsoup = get_bs4(aircraft_link)\n",
    "\n",
    "    # to populate with cols:new_vals\n",
    "    nadict = {}\n",
    "    \n",
    "    # Build FUNCTION DICT --> func_dict = {'model': get_acmodel(), 'website': get_acextlink()...}\n",
    "    core_data = get_coredata(acsoup)\n",
    "    \n",
    "    # mapping col keys to associated function values\n",
    "    func_dict = {'specs': [get_acspecs(acsoup)], 'resources': [get_acresources(acsoup)], 'oem': get_acoem(core_data), \\\n",
    "                \n",
    "                'model': get_acmodel(core_data), 'aircraft_website': get_acextlink(core_data), 'address': get_acaddress(core_data), \\\n",
    "                \n",
    "                'about': get_acabout(core_data, acsoup)}\n",
    "    \n",
    "    # run functions for new col data, store in dict\n",
    "    nadict = {col: func_dict[col] for col in cols_list}\n",
    "\n",
    "#     for val in nadict.values():\n",
    "#         print(val)\n",
    "#         print('and the length of the value is ', len(val))\n",
    "    \n",
    "    \n",
    "    # create single-row pd.df to update dataframe\n",
    "    naupdate = pd.DataFrame(nadict, index = [aircraft_link])\n",
    "\n",
    "    # update dataframe row\n",
    "    df.update(naupdate)\n",
    "    "
   ]
  },
  {
   "cell_type": "markdown",
   "metadata": {},
   "source": [
    "## Updating a dataframe with na values -- tutorial\n",
    "\n",
    "* using the update_na() function to update an existing dataframe with null values"
   ]
  },
  {
   "cell_type": "markdown",
   "metadata": {},
   "source": [
    "#### I -- Check dataframe null values, by column and count\n",
    "\n",
    "Response tells which columns have null values and how many rows per column"
   ]
  },
  {
   "cell_type": "code",
   "execution_count": 19,
   "metadata": {},
   "outputs": [
    {
     "data": {
      "text/plain": [
       "{'model': 19, 'about': 33, 'address': 48, 'aircraft_website': 52, 'specs': 414}"
      ]
     },
     "execution_count": 19,
     "metadata": {},
     "output_type": "execute_result"
    }
   ],
   "source": [
    "na_cols = check_na(updated_df)\n",
    "na_cols"
   ]
  },
  {
   "cell_type": "markdown",
   "metadata": {},
   "source": [
    "#### II -- Get indices for rows in cols with null values"
   ]
  },
  {
   "cell_type": "code",
   "execution_count": 20,
   "metadata": {},
   "outputs": [
    {
     "data": {
      "text/plain": [
       "['model', 'about', 'address', 'aircraft_website']"
      ]
     },
     "execution_count": 20,
     "metadata": {},
     "output_type": "execute_result"
    }
   ],
   "source": [
    "na_cols = list(na_cols.keys())\n",
    "na_cols = [col for col in na_cols if col != 'specs']\n",
    "na_cols"
   ]
  },
  {
   "cell_type": "code",
   "execution_count": 22,
   "metadata": {},
   "outputs": [
    {
     "name": "stdout",
     "output_type": "stream",
     "text": [
      "85 total rows have null values.\n"
     ]
    }
   ],
   "source": [
    "# get the indices for aircraft with null values in any of na_cols\n",
    "na_index = np.unique(np.where(updated_df[na_cols].isna()))\n",
    "print(len(na_index), 'total rows have null values.')\n",
    "\n",
    "# build a new subset dataframe for na_df values\n",
    "na_df = updated_df.iloc[na_index, :]"
   ]
  },
  {
   "cell_type": "markdown",
   "metadata": {},
   "source": [
    "#### III -- Loop through rows (links) and update null value columns\n",
    "\n",
    "*Note: only updates specified columns"
   ]
  },
  {
   "cell_type": "code",
   "execution_count": 219,
   "metadata": {},
   "outputs": [],
   "source": [
    "# test segment\n",
    "links = list(na_df['link'])"
   ]
  },
  {
   "cell_type": "code",
   "execution_count": 221,
   "metadata": {},
   "outputs": [
    {
     "data": {
      "text/plain": [
       "112"
      ]
     },
     "execution_count": 221,
     "metadata": {},
     "output_type": "execute_result"
    }
   ],
   "source": [
    "len(links)"
   ]
  },
  {
   "cell_type": "markdown",
   "metadata": {},
   "source": [
    "#### IV -- Loop through null value links, update dataframe"
   ]
  },
  {
   "cell_type": "code",
   "execution_count": 222,
   "metadata": {
    "collapsed": true,
    "jupyter": {
     "outputs_hidden": true
    },
    "tags": []
   },
   "outputs": [
    {
     "name": "stdout",
     "output_type": "stream",
     "text": [
      "https://evtol.news/daymak-avvenire-skyrider\n",
      "https://evtol.news/aeroxo-lv-era-aviabike/\n",
      "https://evtol.news/ali-technologies-xturismo/\n",
      "https://evtol.news/ali-technologies-hover-bike/\n",
      "https://evtol.news/a2-cal-aptos-blue\n",
      "http://evtol.news/aergility-atlis/\n",
      "https://evtol.news/aerial-vehicle-automation-winged-x8/\n",
      "http://evtol.news/aerodyne-vector/\n",
      "http://evtol.news/airisone/\n",
      "http://evtol.news/airspacex/\n",
      "http://evtol.news/alakai-technologies-skai/\n",
      "https://evtol.news/assen-aerospace-a2-avenger/\n",
      "http://evtol.news/passenger-drone/\n",
      "http://evtol.news/athena-aero/\n",
      "http://evtol.news/autoflightx-bat600/\n",
      "http://evtol.news/autonomous-flight/\n",
      "http://evtol.news/avianovations-hepard/\n",
      "https://evtol.news/baykar-cezeri/\n",
      "https://evtol.news/caps\n",
      "https://evtol.news/china-helicopter-research-and-development-institute-electric-helicopter/\n",
      "http://evtol.news/collaborativebee-mini-bee/\n",
      "https://evtol.news/colugo-systems\n",
      "https://evtol.news/copterpack-copterpack\n",
      "https://evtol.news/CycloTech-Passenger-Demonstrator\n",
      "http://evtol.news/davinci-zerog/\n",
      "http://evtol.news/dekatone/\n",
      "http://evtol.news/digi-robotics-drofire/\n",
      "http://evtol.news/dragonair-airboard-1/\n",
      "https://evtol.news/dragonair-airboard-2\n",
      "https://evtol.news/dragonair-airboard-3\n",
      "http://evtol.news/dufour-aero2/\n",
      "http://evtol.news/eac-whisper/\n",
      "http://evtol.news/electric-jet-aircraft-ej-1b-defunct/\n",
      "http://evtol.news/eosflight/\n",
      "http://evtol.news/zeva-zero/\n",
      "http://evtol.news/esprit-aeronautics-lancer-epav/\n",
      "https://evtol.news/sharifzadeh-zero-g-ecruzer\n",
      "http://evtol.news/georgia-tech-hummingbuzz/\n",
      "http://evtol.news/gestalt-aeronauticals-vtol/\n",
      "http://evtol.news/gizio-cellcraft-g150-concept-aircraft/\n",
      "http://evtol.news/gizio-cellcraft-g450-concept-aircraft/\n",
      "http://evtol.news/gizio-ddrh-and-ddvl/\n",
      "http://evtol.news/gizio-ej11-electrojet-concept-aircraft/\n",
      "http://evtol.news/ej420-electrojet/\n",
      "http://evtol.news/grug-group-business-evtol-jet/\n",
      "http://evtol.news/grug-group-ghost-x-v1/\n",
      "http://evtol.news/grug-group-ghost-x-v2-2/\n",
      "https://evtol.news/happy-takeoff-citiflex\n",
      "https://evtol.news/heitech-magic-cloud\n",
      "https://evtol.news/heitech-skimmer\n",
      "https://evtol.news/heitech-sport\n",
      "https://evtol.news/heitech-air-f1\n",
      "https://evtol.news/heitech-cruiser\n",
      "https://evtol.news/kiwigogo-t-one\n",
      "https://evtol.news/hoplite-aviation/\n",
      "https://evtol.news/horizon-autocopters-auto-copter/\n",
      "http://evtol.news/jaxa-hornisse/\n",
      "http://evtol.news/jayu/\n",
      "http://evtol.news/joby-lotus/\n",
      "https://evtol.news/joby-s4-monarch/\n",
      "https://evtol.news/jump-aero/\n",
      "http://evtol.news/kalashnikov-hovercycle/\n",
      "http://evtol.news/kenyan-passenger-drone/\n",
      "http://evtol.news/kineticco-aerospace-and-advanced-technologies/\n",
      "https://evtol.news/kovacs-racer-ii\n",
      "http://evtol.news/kronstadt-air-taxi/\n",
      "http://evtol.news/leap-vantage/\n",
      "https://evtol.news/leap-aeronautics/\n",
      "http://evtol.news/lilium/\n",
      "http://evtol.news/macchine-volantis-flying-car/\n",
      "https://evtol.news/malloy-hoverbike/\n",
      "https://evtol.news/malloy-aeronautics-trv-150\n",
      "http://evtol.news/mightyfly-mf-100/\n",
      "https://evtol.news/mojave-mystery-evtol-aircraft-a\n",
      "http://evtol.news/moller-skycar-m400/\n",
      "http://evtol.news/napoleon-aero-vtol/\n",
      "http://evtol.news/neo-aeronautics-crimson-s8/\n",
      "http://evtol.news/neoptera/\n",
      "https://evtol.news/orlando-helicopter-airways-electric-s-52-defunct\n",
      "http://evtol.news/paragon-vtol-aerospace-t21-raptor/\n",
      "http://evtol.news/pav-x-ultralight/\n",
      "http://evtol.news/pav-x/\n",
      "http://evtol.news/penn-state-university-blue-sparrow/\n",
      "http://evtol.news/pvf-personal-flying-vehicle-1/\n",
      "https://evtol.news/ponti-design-studio-kite\n",
      "https://evtol.news/raven\n",
      "http://evtol.news/rflight-n217rl/\n",
      "https://evtol.news/sahand-evtol-air-taxi/\n",
      "http://evtol.news/scoop-pegasus-1/\n",
      "https://evtol.news/skyboom\n",
      "https://evtol.news/skydrive-sd-03\n",
      "https://evtol.news/skyflow-motorcycle-hover-bike/\n",
      "http://evtol.news/skylys-ao/\n",
      "http://evtol.news/skypod/\n",
      "http://evtol.news/gravity-x/\n",
      "https://evtol.news/star-8-green-hoverboard-v10\n",
      "https://evtol.news/stielau-electric-helicopter\n",
      "http://evtol.news/supervolant-pegasus/\n",
      "https://evtol.news/swallow-vtol/\n",
      "https://evtol.news/swallow-vtol-3-thruster-version\n",
      "http://evtol.news/swarm-multicopter/\n",
      "http://evtol.news/texas-am-university-harmony/\n",
      "http://evtol.news/the-real-life-guys-flying-bathtub/\n",
      "https://evtol.news/gyrodrone\n",
      "https://evtol.news/uavos-sumoair\n",
      "http://evtol.news/university-of-kansas-mamba/\n",
      "https://evtol.news/vertical-aerospace-VA-1X\n",
      "https://evtol.news/vertical-aerospace-seraph/\n",
      "http://evtol.news/vision-vtol/\n",
      "http://evtol.news/volerian/\n",
      "https://evtol.news/kitty-hawk-cora/\n",
      "http://evtol.news/x-aero-x-craft/\n"
     ]
    }
   ],
   "source": [
    "for link in links:\n",
    "    print(link)\n",
    "    \n",
    "    # update columns in the dataframe, inplace.\n",
    "    update_na(na_cols, link, updated_df)\n",
    "    # sleep timer between iterations to prevent IP tagging.\n",
    "    time.sleep(5)"
   ]
  },
  {
   "cell_type": "code",
   "execution_count": 223,
   "metadata": {},
   "outputs": [
    {
     "data": {
      "text/html": [
       "<div>\n",
       "<style scoped>\n",
       "    .dataframe tbody tr th:only-of-type {\n",
       "        vertical-align: middle;\n",
       "    }\n",
       "\n",
       "    .dataframe tbody tr th {\n",
       "        vertical-align: top;\n",
       "    }\n",
       "\n",
       "    .dataframe thead th {\n",
       "        text-align: right;\n",
       "    }\n",
       "</style>\n",
       "<table border=\"1\" class=\"dataframe\">\n",
       "  <thead>\n",
       "    <tr style=\"text-align: right;\">\n",
       "      <th></th>\n",
       "      <th>category</th>\n",
       "      <th>name</th>\n",
       "      <th>oem</th>\n",
       "      <th>model</th>\n",
       "      <th>status</th>\n",
       "      <th>aircraft_website</th>\n",
       "      <th>address</th>\n",
       "      <th>about</th>\n",
       "      <th>resources</th>\n",
       "      <th>specs</th>\n",
       "    </tr>\n",
       "    <tr>\n",
       "      <th>link</th>\n",
       "      <th></th>\n",
       "      <th></th>\n",
       "      <th></th>\n",
       "      <th></th>\n",
       "      <th></th>\n",
       "      <th></th>\n",
       "      <th></th>\n",
       "      <th></th>\n",
       "      <th></th>\n",
       "      <th></th>\n",
       "    </tr>\n",
       "  </thead>\n",
       "  <tbody>\n",
       "    <tr>\n",
       "      <th>https://evtol.news/daymak-avvenire-skyrider</th>\n",
       "      <td>Wingless (Multicopter)</td>\n",
       "      <td>Daymak Avvenire Skyrider</td>\n",
       "      <td>Daymak Avvenire</td>\n",
       "      <td>N/A</td>\n",
       "      <td>active</td>\n",
       "      <td>N/A</td>\n",
       "      <td>N/A</td>\n",
       "      <td>N/A</td>\n",
       "      <td>[]</td>\n",
       "      <td>NaN</td>\n",
       "    </tr>\n",
       "    <tr>\n",
       "      <th>https://evtol.news/aeroxo-lv-era-aviabike/</th>\n",
       "      <td>Hover Bikes/Personal Flying Devices</td>\n",
       "      <td>Aeroxo LV ERA Aviabike</td>\n",
       "      <td>Aeroxo LV</td>\n",
       "      <td>ERA Aviabike</td>\n",
       "      <td>active</td>\n",
       "      <td>http://aeroxo.ru/</td>\n",
       "      <td>Riga, Latvia and Moscow, Russia</td>\n",
       "      <td>Aeroxo’s LV ERA Aviabike is a battery powered ...</td>\n",
       "      <td>[http://aeroxo.ru/, http://aviabike.aeroxo.com...</td>\n",
       "      <td>NaN</td>\n",
       "    </tr>\n",
       "    <tr>\n",
       "      <th>https://evtol.news/ali-technologies-xturismo/</th>\n",
       "      <td>Hover Bikes/Personal Flying Devices</td>\n",
       "      <td>ALI Technologies Xturismo</td>\n",
       "      <td>A.L.I. Technologies, Inc.</td>\n",
       "      <td>Xturismo Limited Edition</td>\n",
       "      <td>active</td>\n",
       "      <td>http://ali.jp/</td>\n",
       "      <td>A.L.I. Technologies, Inc.</td>\n",
       "      <td>ALI Technologies is a small start-up company e...</td>\n",
       "      <td>[http://ali.jp/, https://www.facebook.com/pg/%...</td>\n",
       "      <td>NaN</td>\n",
       "    </tr>\n",
       "    <tr>\n",
       "      <th>https://evtol.news/ali-technologies-hover-bike/</th>\n",
       "      <td>Hover Bikes/Personal Flying Devices</td>\n",
       "      <td>ALI Technologies Hover Bike</td>\n",
       "      <td>A.L.I. Technologies, Inc.</td>\n",
       "      <td>Hover Bike</td>\n",
       "      <td>active</td>\n",
       "      <td>http://ali.jp/</td>\n",
       "      <td>A.L.I. Technologies, Inc.</td>\n",
       "      <td></td>\n",
       "      <td>[http://ali.jp/, https://www.facebook.com/pg/%...</td>\n",
       "      <td>NaN</td>\n",
       "    </tr>\n",
       "    <tr>\n",
       "      <th>https://evtol.news/a2-cal-aptos-blue</th>\n",
       "      <td>Vectored Thrust</td>\n",
       "      <td>A2-Cal Aptos Blue</td>\n",
       "      <td>A2-Cal</td>\n",
       "      <td>Aptos Blue</td>\n",
       "      <td>active</td>\n",
       "      <td>https://a2-cal.com/</td>\n",
       "      <td>Berkeley, California, USA</td>\n",
       "      <td>Jean-Francois Clavreul is an aircraft designer...</td>\n",
       "      <td>[https://a2-cal.com/, https://www.youtube.com/...</td>\n",
       "      <td>NaN</td>\n",
       "    </tr>\n",
       "    <tr>\n",
       "      <th>...</th>\n",
       "      <td>...</td>\n",
       "      <td>...</td>\n",
       "      <td>...</td>\n",
       "      <td>...</td>\n",
       "      <td>...</td>\n",
       "      <td>...</td>\n",
       "      <td>...</td>\n",
       "      <td>...</td>\n",
       "      <td>...</td>\n",
       "      <td>...</td>\n",
       "    </tr>\n",
       "    <tr>\n",
       "      <th>https://evtol.news/vertical-aerospace-seraph/</th>\n",
       "      <td>Wingless (Multicopter)</td>\n",
       "      <td>Vertical Aerospace VA-X2</td>\n",
       "      <td>Vertical Aerospace Ltd.</td>\n",
       "      <td>VA-X2</td>\n",
       "      <td>active</td>\n",
       "      <td>http://www.vertical-aerospace.com</td>\n",
       "      <td>Bristol, England, United Kingdom</td>\n",
       "      <td>In 2016, Vertical Aerospace Ltd. was founded b...</td>\n",
       "      <td>[]</td>\n",
       "      <td>NaN</td>\n",
       "    </tr>\n",
       "    <tr>\n",
       "      <th>http://evtol.news/vision-vtol/</th>\n",
       "      <td>Vectored Thrust</td>\n",
       "      <td>Vision VTOL</td>\n",
       "      <td>Vision VTOL</td>\n",
       "      <td>Vision VTOL</td>\n",
       "      <td>active</td>\n",
       "      <td>https://visionvtol.weebly.com/</td>\n",
       "      <td>NaN</td>\n",
       "      <td>The Waters Trust Vision VTOL is a tiltrotor el...</td>\n",
       "      <td>[]</td>\n",
       "      <td>[]</td>\n",
       "    </tr>\n",
       "    <tr>\n",
       "      <th>http://evtol.news/volerian/</th>\n",
       "      <td>Vectored Thrust</td>\n",
       "      <td>Volerian</td>\n",
       "      <td>Volerian</td>\n",
       "      <td>Volarian (Test Rig)</td>\n",
       "      <td>active</td>\n",
       "      <td>https://volerian.com/</td>\n",
       "      <td>NaN</td>\n",
       "      <td>Volarian is a new concept vectored thrust Vert...</td>\n",
       "      <td>[https://volerian.com/, https://moneyinc.com/n...</td>\n",
       "      <td>[]</td>\n",
       "    </tr>\n",
       "    <tr>\n",
       "      <th>https://evtol.news/kitty-hawk-cora/</th>\n",
       "      <td>Lift + Cruise</td>\n",
       "      <td>Wisk (Kitty Hawk) Cora</td>\n",
       "      <td>Wisk (formerly Kitty Hawk Corp.)</td>\n",
       "      <td>Cora</td>\n",
       "      <td>active</td>\n",
       "      <td>http://www.cora.aero</td>\n",
       "      <td>Mountain View, California, USA</td>\n",
       "      <td>On Dec. 2, 2019, it was announced that The Boe...</td>\n",
       "      <td>[]</td>\n",
       "      <td>NaN</td>\n",
       "    </tr>\n",
       "    <tr>\n",
       "      <th>http://evtol.news/x-aero-x-craft/</th>\n",
       "      <td>Hover Bikes/Personal Flying Devices</td>\n",
       "      <td>X-Aero X-Craft</td>\n",
       "      <td>X-Aero</td>\n",
       "      <td>X-Craft</td>\n",
       "      <td>active</td>\n",
       "      <td>http://www.x-aero.com.au/</td>\n",
       "      <td>Melbourne, Australia</td>\n",
       "      <td>X-Aero, the RMIT GoFly Team, comprises the RMI...</td>\n",
       "      <td>[]</td>\n",
       "      <td>NaN</td>\n",
       "    </tr>\n",
       "  </tbody>\n",
       "</table>\n",
       "<p>112 rows × 10 columns</p>\n",
       "</div>"
      ],
      "text/plain": [
       "                                                                            category  \\\n",
       "link                                                                                   \n",
       "https://evtol.news/daymak-avvenire-skyrider                   Wingless (Multicopter)   \n",
       "https://evtol.news/aeroxo-lv-era-aviabike/       Hover Bikes/Personal Flying Devices   \n",
       "https://evtol.news/ali-technologies-xturismo/    Hover Bikes/Personal Flying Devices   \n",
       "https://evtol.news/ali-technologies-hover-bike/  Hover Bikes/Personal Flying Devices   \n",
       "https://evtol.news/a2-cal-aptos-blue                                 Vectored Thrust   \n",
       "...                                                                              ...   \n",
       "https://evtol.news/vertical-aerospace-seraph/                 Wingless (Multicopter)   \n",
       "http://evtol.news/vision-vtol/                                       Vectored Thrust   \n",
       "http://evtol.news/volerian/                                          Vectored Thrust   \n",
       "https://evtol.news/kitty-hawk-cora/                                    Lift + Cruise   \n",
       "http://evtol.news/x-aero-x-craft/                Hover Bikes/Personal Flying Devices   \n",
       "\n",
       "                                                                        name  \\\n",
       "link                                                                           \n",
       "https://evtol.news/daymak-avvenire-skyrider         Daymak Avvenire Skyrider   \n",
       "https://evtol.news/aeroxo-lv-era-aviabike/            Aeroxo LV ERA Aviabike   \n",
       "https://evtol.news/ali-technologies-xturismo/      ALI Technologies Xturismo   \n",
       "https://evtol.news/ali-technologies-hover-bike/  ALI Technologies Hover Bike   \n",
       "https://evtol.news/a2-cal-aptos-blue                      A2-Cal Aptos Blue    \n",
       "...                                                                      ...   \n",
       "https://evtol.news/vertical-aerospace-seraph/       Vertical Aerospace VA-X2   \n",
       "http://evtol.news/vision-vtol/                                   Vision VTOL   \n",
       "http://evtol.news/volerian/                                         Volerian   \n",
       "https://evtol.news/kitty-hawk-cora/                   Wisk (Kitty Hawk) Cora   \n",
       "http://evtol.news/x-aero-x-craft/                             X-Aero X-Craft   \n",
       "\n",
       "                                                                              oem  \\\n",
       "link                                                                                \n",
       "https://evtol.news/daymak-avvenire-skyrider                       Daymak Avvenire   \n",
       "https://evtol.news/aeroxo-lv-era-aviabike/                              Aeroxo LV   \n",
       "https://evtol.news/ali-technologies-xturismo/           A.L.I. Technologies, Inc.   \n",
       "https://evtol.news/ali-technologies-hover-bike/         A.L.I. Technologies, Inc.   \n",
       "https://evtol.news/a2-cal-aptos-blue                                       A2-Cal   \n",
       "...                                                                           ...   \n",
       "https://evtol.news/vertical-aerospace-seraph/             Vertical Aerospace Ltd.   \n",
       "http://evtol.news/vision-vtol/                                        Vision VTOL   \n",
       "http://evtol.news/volerian/                                              Volerian   \n",
       "https://evtol.news/kitty-hawk-cora/              Wisk (formerly Kitty Hawk Corp.)   \n",
       "http://evtol.news/x-aero-x-craft/                                          X-Aero   \n",
       "\n",
       "                                                                    model  \\\n",
       "link                                                                        \n",
       "https://evtol.news/daymak-avvenire-skyrider                           N/A   \n",
       "https://evtol.news/aeroxo-lv-era-aviabike/                   ERA Aviabike   \n",
       "https://evtol.news/ali-technologies-xturismo/    Xturismo Limited Edition   \n",
       "https://evtol.news/ali-technologies-hover-bike/                Hover Bike   \n",
       "https://evtol.news/a2-cal-aptos-blue                           Aptos Blue   \n",
       "...                                                                   ...   \n",
       "https://evtol.news/vertical-aerospace-seraph/                       VA-X2   \n",
       "http://evtol.news/vision-vtol/                                Vision VTOL   \n",
       "http://evtol.news/volerian/                           Volarian (Test Rig)   \n",
       "https://evtol.news/kitty-hawk-cora/                                  Cora   \n",
       "http://evtol.news/x-aero-x-craft/                                 X-Craft   \n",
       "\n",
       "                                                 status  \\\n",
       "link                                                      \n",
       "https://evtol.news/daymak-avvenire-skyrider      active   \n",
       "https://evtol.news/aeroxo-lv-era-aviabike/       active   \n",
       "https://evtol.news/ali-technologies-xturismo/    active   \n",
       "https://evtol.news/ali-technologies-hover-bike/  active   \n",
       "https://evtol.news/a2-cal-aptos-blue             active   \n",
       "...                                                 ...   \n",
       "https://evtol.news/vertical-aerospace-seraph/    active   \n",
       "http://evtol.news/vision-vtol/                   active   \n",
       "http://evtol.news/volerian/                      active   \n",
       "https://evtol.news/kitty-hawk-cora/              active   \n",
       "http://evtol.news/x-aero-x-craft/                active   \n",
       "\n",
       "                                                                  aircraft_website  \\\n",
       "link                                                                                 \n",
       "https://evtol.news/daymak-avvenire-skyrider                                    N/A   \n",
       "https://evtol.news/aeroxo-lv-era-aviabike/                       http://aeroxo.ru/   \n",
       "https://evtol.news/ali-technologies-xturismo/                       http://ali.jp/   \n",
       "https://evtol.news/ali-technologies-hover-bike/                     http://ali.jp/   \n",
       "https://evtol.news/a2-cal-aptos-blue                           https://a2-cal.com/   \n",
       "...                                                                            ...   \n",
       "https://evtol.news/vertical-aerospace-seraph/    http://www.vertical-aerospace.com   \n",
       "http://evtol.news/vision-vtol/                      https://visionvtol.weebly.com/   \n",
       "http://evtol.news/volerian/                                  https://volerian.com/   \n",
       "https://evtol.news/kitty-hawk-cora/                           http://www.cora.aero   \n",
       "http://evtol.news/x-aero-x-craft/                        http://www.x-aero.com.au/   \n",
       "\n",
       "                                                                          address  \\\n",
       "link                                                                                \n",
       "https://evtol.news/daymak-avvenire-skyrider                                   N/A   \n",
       "https://evtol.news/aeroxo-lv-era-aviabike/        Riga, Latvia and Moscow, Russia   \n",
       "https://evtol.news/ali-technologies-xturismo/           A.L.I. Technologies, Inc.   \n",
       "https://evtol.news/ali-technologies-hover-bike/         A.L.I. Technologies, Inc.   \n",
       "https://evtol.news/a2-cal-aptos-blue                    Berkeley, California, USA   \n",
       "...                                                                           ...   \n",
       "https://evtol.news/vertical-aerospace-seraph/    Bristol, England, United Kingdom   \n",
       "http://evtol.news/vision-vtol/                                                NaN   \n",
       "http://evtol.news/volerian/                                                   NaN   \n",
       "https://evtol.news/kitty-hawk-cora/                Mountain View, California, USA   \n",
       "http://evtol.news/x-aero-x-craft/                            Melbourne, Australia   \n",
       "\n",
       "                                                                                             about  \\\n",
       "link                                                                                                 \n",
       "https://evtol.news/daymak-avvenire-skyrider                                                    N/A   \n",
       "https://evtol.news/aeroxo-lv-era-aviabike/       Aeroxo’s LV ERA Aviabike is a battery powered ...   \n",
       "https://evtol.news/ali-technologies-xturismo/    ALI Technologies is a small start-up company e...   \n",
       "https://evtol.news/ali-technologies-hover-bike/                                                      \n",
       "https://evtol.news/a2-cal-aptos-blue             Jean-Francois Clavreul is an aircraft designer...   \n",
       "...                                                                                            ...   \n",
       "https://evtol.news/vertical-aerospace-seraph/    In 2016, Vertical Aerospace Ltd. was founded b...   \n",
       "http://evtol.news/vision-vtol/                   The Waters Trust Vision VTOL is a tiltrotor el...   \n",
       "http://evtol.news/volerian/                      Volarian is a new concept vectored thrust Vert...   \n",
       "https://evtol.news/kitty-hawk-cora/              On Dec. 2, 2019, it was announced that The Boe...   \n",
       "http://evtol.news/x-aero-x-craft/                X-Aero, the RMIT GoFly Team, comprises the RMI...   \n",
       "\n",
       "                                                                                         resources  \\\n",
       "link                                                                                                 \n",
       "https://evtol.news/daymak-avvenire-skyrider                                                     []   \n",
       "https://evtol.news/aeroxo-lv-era-aviabike/       [http://aeroxo.ru/, http://aviabike.aeroxo.com...   \n",
       "https://evtol.news/ali-technologies-xturismo/    [http://ali.jp/, https://www.facebook.com/pg/%...   \n",
       "https://evtol.news/ali-technologies-hover-bike/  [http://ali.jp/, https://www.facebook.com/pg/%...   \n",
       "https://evtol.news/a2-cal-aptos-blue             [https://a2-cal.com/, https://www.youtube.com/...   \n",
       "...                                                                                            ...   \n",
       "https://evtol.news/vertical-aerospace-seraph/                                                   []   \n",
       "http://evtol.news/vision-vtol/                                                                  []   \n",
       "http://evtol.news/volerian/                      [https://volerian.com/, https://moneyinc.com/n...   \n",
       "https://evtol.news/kitty-hawk-cora/                                                             []   \n",
       "http://evtol.news/x-aero-x-craft/                                                               []   \n",
       "\n",
       "                                                specs  \n",
       "link                                                   \n",
       "https://evtol.news/daymak-avvenire-skyrider       NaN  \n",
       "https://evtol.news/aeroxo-lv-era-aviabike/        NaN  \n",
       "https://evtol.news/ali-technologies-xturismo/     NaN  \n",
       "https://evtol.news/ali-technologies-hover-bike/   NaN  \n",
       "https://evtol.news/a2-cal-aptos-blue              NaN  \n",
       "...                                               ...  \n",
       "https://evtol.news/vertical-aerospace-seraph/     NaN  \n",
       "http://evtol.news/vision-vtol/                     []  \n",
       "http://evtol.news/volerian/                        []  \n",
       "https://evtol.news/kitty-hawk-cora/               NaN  \n",
       "http://evtol.news/x-aero-x-craft/                 NaN  \n",
       "\n",
       "[112 rows x 10 columns]"
      ]
     },
     "execution_count": 223,
     "metadata": {},
     "output_type": "execute_result"
    }
   ],
   "source": [
    "updated_df.loc[links]"
   ]
  },
  {
   "cell_type": "code",
   "execution_count": 224,
   "metadata": {},
   "outputs": [
    {
     "data": {
      "text/plain": [
       "(482, 10)"
      ]
     },
     "execution_count": 224,
     "metadata": {},
     "output_type": "execute_result"
    }
   ],
   "source": [
    "updated_df.shape"
   ]
  },
  {
   "cell_type": "markdown",
   "metadata": {},
   "source": [
    "#### Send to .csv"
   ]
  },
  {
   "cell_type": "code",
   "execution_count": 23,
   "metadata": {},
   "outputs": [],
   "source": [
    "# # builds .csv with today's date\n",
    "# today = datetime.date.today()\n",
    "# updated_df.to_csv('evtolnews_results_df_{}.{}.{}.csv'.format(today.month, today.day, today.year))"
   ]
  },
  {
   "cell_type": "markdown",
   "metadata": {},
   "source": [
    "## Data summary"
   ]
  },
  {
   "cell_type": "markdown",
   "metadata": {},
   "source": [
    "### Aircraft and OEMs"
   ]
  },
  {
   "cell_type": "code",
   "execution_count": 24,
   "metadata": {
    "tags": []
   },
   "outputs": [
    {
     "name": "stdout",
     "output_type": "stream",
     "text": [
      "There are  446 aircraft\n",
      "There are  281 unique OEMs\n"
     ]
    }
   ],
   "source": [
    "active = updated_df[updated_df['status'] == 'active']\n",
    "\n",
    "print(\"There are \", len(active), 'aircraft')\n",
    "\n",
    "oems_count = len(updated_df['oem'].unique())\n",
    "\n",
    "print(\"There are \", oems_count, 'unique OEMs')"
   ]
  },
  {
   "cell_type": "markdown",
   "metadata": {},
   "source": [
    "### OEMs with multiple active aircraft"
   ]
  },
  {
   "cell_type": "code",
   "execution_count": 25,
   "metadata": {
    "tags": []
   },
   "outputs": [
    {
     "data": {
      "text/plain": [
       "Star 8 Green                                              11\n",
       "Hover                                                     10\n",
       "Stuttgart Aerospace                                        8\n",
       "Dahir Insaat                                               7\n",
       "Autoflight                                                 6\n",
       "Grug Group LLC                                             6\n",
       "Heitech                                                    6\n",
       "Kovacs                                                     5\n",
       "Terrafugia                                                 5\n",
       "Lazzarini Design Studio                                    5\n",
       "FeralGods Design Company                                   5\n",
       "Gizio                                                      5\n",
       "EHang                                                      5\n",
       "Skyworks Aeronautics Corp.                                 4\n",
       "Ambular                                                    4\n",
       "Alauda Aeronautics                                         4\n",
       "Uber Elevate                                               4\n",
       "SkyDrive                                                   4\n",
       "Samad Aerospace Ltd.                                       4\n",
       "Doroni LLC                                                 4\n",
       "Flexcraft                                                  4\n",
       "Deep Blue Aviation                                         4\n",
       "Volocopter GmbH                                            3\n",
       "Bell                                                       3\n",
       "Teledrone Ltd.                                             3\n",
       "Vertical Aerospace Ltd.                                    3\n",
       "DragonAir                                                  3\n",
       "Weslax GmbH                                                3\n",
       "Edea                                                       3\n",
       "Dufour Aerospace                                           3\n",
       "Commercial Aircraft Corporation of China, Ltd. (COMAC)     3\n",
       "Pipistrel                                                  3\n",
       "CycloTech GmbH                                             3\n",
       "Micor Technologies LLC                                     3\n",
       "Opener                                                     3\n",
       "Name: oem, dtype: int64"
      ]
     },
     "execution_count": 25,
     "metadata": {},
     "output_type": "execute_result"
    }
   ],
   "source": [
    "active_oem_counts = active['oem'].value_counts()\n",
    "\n",
    "active_oem_counts[active_oem_counts >2]"
   ]
  },
  {
   "cell_type": "markdown",
   "metadata": {},
   "source": [
    "### Category counts by active aircraft"
   ]
  },
  {
   "cell_type": "code",
   "execution_count": 26,
   "metadata": {},
   "outputs": [
    {
     "data": {
      "text/plain": [
       "Vectored Thrust                        147\n",
       "Wingless (Multicopter)                 116\n",
       "Hover Bikes/Personal Flying Devices     77\n",
       "Lift + Cruise                           76\n",
       "Electric Rotorcraft                     30\n",
       "Name: category, dtype: int64"
      ]
     },
     "execution_count": 26,
     "metadata": {},
     "output_type": "execute_result"
    }
   ],
   "source": [
    "active_categorized = active['category'].value_counts()\n",
    "active_categorized"
   ]
  },
  {
   "cell_type": "code",
   "execution_count": 27,
   "metadata": {},
   "outputs": [],
   "source": [
    "# # builds .csv with today's date\n",
    "today = datetime.date.today()\n",
    "updated_df.to_csv('evtolnews_results_df_{}.{}.{}.csv'.format(today.month, today.day, today.year))"
   ]
  }
 ],
 "metadata": {
  "kernelspec": {
   "display_name": "Python 3.7.4 64-bit",
   "language": "python",
   "name": "python37464bit3397ac0b095f4cc6a08861c5ba8318fd"
  },
  "language_info": {
   "codemirror_mode": {
    "name": "ipython",
    "version": 3
   },
   "file_extension": ".py",
   "mimetype": "text/x-python",
   "name": "python",
   "nbconvert_exporter": "python",
   "pygments_lexer": "ipython3",
   "version": "3.7.4"
  }
 },
 "nbformat": 4,
 "nbformat_minor": 4
}
