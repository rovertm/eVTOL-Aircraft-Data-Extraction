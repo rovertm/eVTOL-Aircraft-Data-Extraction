{
 "cells": [
  {
   "cell_type": "code",
   "execution_count": 1,
   "id": "a9aa416c-54b8-417a-a3f5-1cdb8099e78a",
   "metadata": {},
   "outputs": [],
   "source": [
    "# General packages\n",
    "import requests\n",
    "import json\n",
    "import time\n",
    "import datetime\n",
    "import random\n",
    "import os\n",
    "import sys\n",
    "\n",
    "# data / numerical handling\n",
    "import pandas as pd\n",
    "import numpy as np\n",
    "\n",
    "# data visualization\n",
    "import seaborn as sb\n",
    "import matplotlib as mp\n",
    "\n",
    "# Scraping libraries\n",
    "from bs4 import BeautifulSoup as bs4\n"
   ]
  },
  {
   "cell_type": "markdown",
   "id": "8f0e544b-48e8-4149-a99f-a54ad6d50b1b",
   "metadata": {},
   "source": [
    "## Overview\n",
    "\n",
    "#### About\n",
    "This notebook contains code for webscraping data on eVTOL / UAM aircraft from https://transportup.com/the-hangar/\n",
    "\n",
    "#### Packages\n",
    "* [BeautifulSoup](https://www.crummy.com/software/BeautifulSoup/bs4/doc/) \n",
    "* Standard libraries across Python 3* Anaconda distribution.\n",
    "\n",
    "#### Files\n",
    "* Jupyter Notebook for analysis: transportup_scrape.ipynb\n",
    "* Python files for custom functions\n",
    "    * transportup_funcs.py\n",
    "    \n",
    "* .csv files for read and writing to dataframes\n",
    "    * tu_directory_{date}.csv --> dataframe of aircraft links (to scrape)\n",
    "    * tu_results_df_{date}.csv --> dataframe of scraped and cleaned aircraft data\n"
   ]
  },
  {
   "cell_type": "code",
   "execution_count": 2,
   "id": "2bee365b-9bd1-4822-a603-42152a30bf12",
   "metadata": {},
   "outputs": [],
   "source": [
    "def get_bs4(endpoint):\n",
    "\n",
    "    \"\"\" Returns a bs4 object from a .get().text request at specified endpoint \"\"\"\n",
    "    \n",
    "    # get request -- initialize html response object\n",
    "    # https://docs.python-requests.org/en/master/user/quickstart/\n",
    "    html = requests.get(endpoint).text \n",
    "\n",
    "    # initiate bs4 object\n",
    "    # https://www.crummy.com/software/BeautifulSoup/bs4/doc/\n",
    "    soup = bs4(html, 'html.parser')\n",
    "    \n",
    "    return soup"
   ]
  },
  {
   "cell_type": "markdown",
   "id": "4b91ee5a-92c9-4b48-ba9c-2485cc249296",
   "metadata": {},
   "source": [
    "# Part I -- Build TransportUP aircraft directory dataframe"
   ]
  },
  {
   "cell_type": "code",
   "execution_count": 3,
   "id": "ce92583d-1d01-46d1-aaa9-adde6e1f0dad",
   "metadata": {},
   "outputs": [],
   "source": [
    "def get_acdata(category, cat_atags):\n",
    "    \n",
    "    \"\"\"\n",
    "    \n",
    "    takes a category and the category's atags \n",
    "    and builds a list of dictionaries for data frame input\n",
    "    \n",
    "    \"\"\"\n",
    "    \n",
    "    # store of dataframe row data (dicts)\n",
    "    dict_list = []\n",
    "\n",
    "    ## all key aircraft a tags have a span tag\n",
    "    for i, a in enumerate(cat_atags):\n",
    "\n",
    "        # to store data per aircraft\n",
    "        ac_data = {}\n",
    "\n",
    "        if a.span:\n",
    "\n",
    "            # get category\n",
    "            try: \n",
    "                ac_data['category'] = category\n",
    "            except:\n",
    "                ac_data['category'] = None\n",
    "\n",
    "            # get link\n",
    "            try:\n",
    "                ac_data['link'] = a.get('href') \n",
    "            except:\n",
    "                ac_data['link'] = None\n",
    "\n",
    "            # get name\n",
    "            try:\n",
    "                name = a.find('span', class_ = 'x-anchor-text-primary').text.strip()\n",
    "                ac_data['ac_name'] = name \n",
    "            except:\n",
    "                ac_data['ac_name'] = None\n",
    "\n",
    "            dict_list.append(ac_data)\n",
    "            \n",
    "    return dict_list\n",
    "    \n",
    "    "
   ]
  },
  {
   "cell_type": "markdown",
   "id": "6d5e6709-8a3a-4f7c-a833-cbb42c8d5789",
   "metadata": {},
   "source": [
    "## Main Hangar page soup"
   ]
  },
  {
   "cell_type": "code",
   "execution_count": 4,
   "id": "2e8e0c77-fefd-41d6-903b-0a1c59e09151",
   "metadata": {},
   "outputs": [],
   "source": [
    "endpoint = \"https://transportup.com/the-hangar/\"\n",
    "soup = get_bs4(endpoint)"
   ]
  },
  {
   "cell_type": "markdown",
   "id": "cd4b4e13-e20a-4d38-84e3-6b6760b50d83",
   "metadata": {},
   "source": [
    "## Set up categories and atags"
   ]
  },
  {
   "cell_type": "code",
   "execution_count": 5,
   "id": "eeb52c2b-1760-4093-bdea-d07173ecb488",
   "metadata": {},
   "outputs": [],
   "source": [
    "## class for the TransportUP Watchlist aircraft data\n",
    "## 2x 'a' tags per aircraft\n",
    "## second 'a' tag contains correct data for scraping\n",
    "\n",
    "watchlist_a = soup.find(class_ = \"e444-16 x-section\").find_all('a')\n",
    "market_a = soup.find(class_ = \"e444-102 x-section\").find_all('a')\n",
    "\n",
    "cat_atags_all = [watchlist_a, market_a]\n",
    "categories_all = ['watchlist', 'market']"
   ]
  },
  {
   "cell_type": "markdown",
   "id": "c78d5913-d8c0-4e54-befc-2d9914e397b1",
   "metadata": {},
   "source": [
    "## Loop through category data and append to df"
   ]
  },
  {
   "cell_type": "code",
   "execution_count": 6,
   "id": "2c60d00c-060f-4068-a8e8-2678826a1169",
   "metadata": {
    "tags": []
   },
   "outputs": [],
   "source": [
    "df = pd.DataFrame(data = None, columns = ['category', 'ac_name', 'link'])\n",
    "\n",
    "for category, atags in zip(categories_all, cat_atags_all):\n",
    "    df = df.append(get_acdata(category, atags), ignore_index =True)"
   ]
  },
  {
   "cell_type": "code",
   "execution_count": 7,
   "id": "90fc603b-b22d-49ca-9b17-4227fbb72d6f",
   "metadata": {
    "tags": []
   },
   "outputs": [
    {
     "data": {
      "text/html": [
       "<div>\n",
       "<style scoped>\n",
       "    .dataframe tbody tr th:only-of-type {\n",
       "        vertical-align: middle;\n",
       "    }\n",
       "\n",
       "    .dataframe tbody tr th {\n",
       "        vertical-align: top;\n",
       "    }\n",
       "\n",
       "    .dataframe thead th {\n",
       "        text-align: right;\n",
       "    }\n",
       "</style>\n",
       "<table border=\"1\" class=\"dataframe\">\n",
       "  <thead>\n",
       "    <tr style=\"text-align: right;\">\n",
       "      <th></th>\n",
       "      <th>category</th>\n",
       "      <th>ac_name</th>\n",
       "      <th>link</th>\n",
       "    </tr>\n",
       "  </thead>\n",
       "  <tbody>\n",
       "    <tr>\n",
       "      <th>87</th>\n",
       "      <td>market</td>\n",
       "      <td>Koncepto Millenya</td>\n",
       "      <td>https://transportup.com/koncepto-millenya</td>\n",
       "    </tr>\n",
       "    <tr>\n",
       "      <th>88</th>\n",
       "      <td>market</td>\n",
       "      <td>Varon Vehicles V200</td>\n",
       "      <td>https://transportup.com/varon-v200/</td>\n",
       "    </tr>\n",
       "    <tr>\n",
       "      <th>89</th>\n",
       "      <td>market</td>\n",
       "      <td>Ghost X V 2.2</td>\n",
       "      <td>https://transportup.com/grug-group-ghost-x-v-2-2/</td>\n",
       "    </tr>\n",
       "    <tr>\n",
       "      <th>90</th>\n",
       "      <td>market</td>\n",
       "      <td>Imaginactive Onyx</td>\n",
       "      <td>https://transportup.com/imaginactive-onyx/</td>\n",
       "    </tr>\n",
       "    <tr>\n",
       "      <th>91</th>\n",
       "      <td>market</td>\n",
       "      <td>Volocopter VoloDrone</td>\n",
       "      <td>https://transportup.com/volocopter-volodrone/</td>\n",
       "    </tr>\n",
       "  </tbody>\n",
       "</table>\n",
       "</div>"
      ],
      "text/plain": [
       "   category               ac_name  \\\n",
       "87   market     Koncepto Millenya   \n",
       "88   market   Varon Vehicles V200   \n",
       "89   market         Ghost X V 2.2   \n",
       "90   market     Imaginactive Onyx   \n",
       "91   market  Volocopter VoloDrone   \n",
       "\n",
       "                                                 link  \n",
       "87          https://transportup.com/koncepto-millenya  \n",
       "88                https://transportup.com/varon-v200/  \n",
       "89  https://transportup.com/grug-group-ghost-x-v-2-2/  \n",
       "90         https://transportup.com/imaginactive-onyx/  \n",
       "91      https://transportup.com/volocopter-volodrone/  "
      ]
     },
     "execution_count": 7,
     "metadata": {},
     "output_type": "execute_result"
    }
   ],
   "source": [
    "df.tail()"
   ]
  },
  {
   "cell_type": "code",
   "execution_count": 8,
   "id": "4469c7da-61d9-4f5f-8d9a-5dcdae877ef2",
   "metadata": {},
   "outputs": [
    {
     "data": {
      "text/plain": [
       "(92, 3)"
      ]
     },
     "execution_count": 8,
     "metadata": {},
     "output_type": "execute_result"
    }
   ],
   "source": [
    "df.shape"
   ]
  },
  {
   "cell_type": "markdown",
   "id": "fd98c107-586d-4f0c-b215-fe95282164eb",
   "metadata": {},
   "source": [
    "## Drop duplicate rows"
   ]
  },
  {
   "cell_type": "code",
   "execution_count": 9,
   "id": "d982a00f-4773-41ff-9451-993a68b8bcd0",
   "metadata": {},
   "outputs": [
    {
     "data": {
      "text/plain": [
       "(92, 3)"
      ]
     },
     "execution_count": 9,
     "metadata": {},
     "output_type": "execute_result"
    }
   ],
   "source": [
    "df.drop_duplicates(inplace = True)\n",
    "df.shape"
   ]
  },
  {
   "cell_type": "markdown",
   "id": "5acf99f4-2aa0-4a7b-8ad6-c3574beca952",
   "metadata": {},
   "source": [
    "#### check for duplicate links"
   ]
  },
  {
   "cell_type": "code",
   "execution_count": 10,
   "id": "ae9e081f-ff2a-4678-ac3a-ad30cb48409a",
   "metadata": {},
   "outputs": [
    {
     "data": {
      "text/html": [
       "<div>\n",
       "<style scoped>\n",
       "    .dataframe tbody tr th:only-of-type {\n",
       "        vertical-align: middle;\n",
       "    }\n",
       "\n",
       "    .dataframe tbody tr th {\n",
       "        vertical-align: top;\n",
       "    }\n",
       "\n",
       "    .dataframe thead th {\n",
       "        text-align: right;\n",
       "    }\n",
       "</style>\n",
       "<table border=\"1\" class=\"dataframe\">\n",
       "  <thead>\n",
       "    <tr style=\"text-align: right;\">\n",
       "      <th></th>\n",
       "      <th>category</th>\n",
       "      <th>ac_name</th>\n",
       "      <th>link</th>\n",
       "    </tr>\n",
       "  </thead>\n",
       "  <tbody>\n",
       "    <tr>\n",
       "      <th>52</th>\n",
       "      <td>market</td>\n",
       "      <td>Vickers WAVE eVTOL</td>\n",
       "      <td>https://transportup.com/hoversurf-formula/</td>\n",
       "    </tr>\n",
       "    <tr>\n",
       "      <th>69</th>\n",
       "      <td>market</td>\n",
       "      <td>None</td>\n",
       "      <td>https://transportup.com/elroy-air-chaparral/</td>\n",
       "    </tr>\n",
       "    <tr>\n",
       "      <th>71</th>\n",
       "      <td>market</td>\n",
       "      <td>None</td>\n",
       "      <td>https://transportup.com/kitty-hawk-heaviside/</td>\n",
       "    </tr>\n",
       "    <tr>\n",
       "      <th>74</th>\n",
       "      <td>market</td>\n",
       "      <td>None</td>\n",
       "      <td>https://transportup.com/amsl-aero-vertiia/</td>\n",
       "    </tr>\n",
       "    <tr>\n",
       "      <th>75</th>\n",
       "      <td>market</td>\n",
       "      <td>None</td>\n",
       "      <td>https://transportup.com/pegasus-vertical-busin...</td>\n",
       "    </tr>\n",
       "  </tbody>\n",
       "</table>\n",
       "</div>"
      ],
      "text/plain": [
       "   category             ac_name  \\\n",
       "52   market  Vickers WAVE eVTOL   \n",
       "69   market                None   \n",
       "71   market                None   \n",
       "74   market                None   \n",
       "75   market                None   \n",
       "\n",
       "                                                 link  \n",
       "52         https://transportup.com/hoversurf-formula/  \n",
       "69       https://transportup.com/elroy-air-chaparral/  \n",
       "71      https://transportup.com/kitty-hawk-heaviside/  \n",
       "74         https://transportup.com/amsl-aero-vertiia/  \n",
       "75  https://transportup.com/pegasus-vertical-busin...  "
      ]
     },
     "execution_count": 10,
     "metadata": {},
     "output_type": "execute_result"
    }
   ],
   "source": [
    "link_dupes = df[df.duplicated(['link']) == True]\n",
    "link_dupes"
   ]
  },
  {
   "cell_type": "markdown",
   "id": "227a2ac5-e156-4227-851d-5e99ec3ef467",
   "metadata": {},
   "source": [
    "\n",
    "\n",
    "##### NOTE**\n",
    "\n",
    "Vicker's Wave eVTOL has an incorrect link. Keep the aircraft in dataframe, 'n/a' the link."
   ]
  },
  {
   "cell_type": "code",
   "execution_count": 11,
   "id": "5c82fc93-5845-413d-bbf1-f133b6ca35eb",
   "metadata": {},
   "outputs": [],
   "source": [
    "df['link'][52] = None"
   ]
  },
  {
   "cell_type": "code",
   "execution_count": 12,
   "id": "dbc037bd-980b-43c1-95a7-20f6f8306c3e",
   "metadata": {},
   "outputs": [
    {
     "data": {
      "text/html": [
       "<div>\n",
       "<style scoped>\n",
       "    .dataframe tbody tr th:only-of-type {\n",
       "        vertical-align: middle;\n",
       "    }\n",
       "\n",
       "    .dataframe tbody tr th {\n",
       "        vertical-align: top;\n",
       "    }\n",
       "\n",
       "    .dataframe thead th {\n",
       "        text-align: right;\n",
       "    }\n",
       "</style>\n",
       "<table border=\"1\" class=\"dataframe\">\n",
       "  <thead>\n",
       "    <tr style=\"text-align: right;\">\n",
       "      <th></th>\n",
       "      <th>category</th>\n",
       "      <th>ac_name</th>\n",
       "      <th>link</th>\n",
       "    </tr>\n",
       "  </thead>\n",
       "  <tbody>\n",
       "    <tr>\n",
       "      <th>69</th>\n",
       "      <td>market</td>\n",
       "      <td>None</td>\n",
       "      <td>https://transportup.com/elroy-air-chaparral/</td>\n",
       "    </tr>\n",
       "    <tr>\n",
       "      <th>71</th>\n",
       "      <td>market</td>\n",
       "      <td>None</td>\n",
       "      <td>https://transportup.com/kitty-hawk-heaviside/</td>\n",
       "    </tr>\n",
       "    <tr>\n",
       "      <th>74</th>\n",
       "      <td>market</td>\n",
       "      <td>None</td>\n",
       "      <td>https://transportup.com/amsl-aero-vertiia/</td>\n",
       "    </tr>\n",
       "    <tr>\n",
       "      <th>75</th>\n",
       "      <td>market</td>\n",
       "      <td>None</td>\n",
       "      <td>https://transportup.com/pegasus-vertical-busin...</td>\n",
       "    </tr>\n",
       "  </tbody>\n",
       "</table>\n",
       "</div>"
      ],
      "text/plain": [
       "   category ac_name                                               link\n",
       "69   market    None       https://transportup.com/elroy-air-chaparral/\n",
       "71   market    None      https://transportup.com/kitty-hawk-heaviside/\n",
       "74   market    None         https://transportup.com/amsl-aero-vertiia/\n",
       "75   market    None  https://transportup.com/pegasus-vertical-busin..."
      ]
     },
     "execution_count": 12,
     "metadata": {},
     "output_type": "execute_result"
    }
   ],
   "source": [
    "link_dupes = df[df.duplicated(['link']) == True]\n",
    "link_dupes"
   ]
  },
  {
   "cell_type": "code",
   "execution_count": 13,
   "id": "efca5833-cd13-4d0c-983c-9cda5455dc03",
   "metadata": {
    "tags": []
   },
   "outputs": [
    {
     "data": {
      "text/html": [
       "<div>\n",
       "<style scoped>\n",
       "    .dataframe tbody tr th:only-of-type {\n",
       "        vertical-align: middle;\n",
       "    }\n",
       "\n",
       "    .dataframe tbody tr th {\n",
       "        vertical-align: top;\n",
       "    }\n",
       "\n",
       "    .dataframe thead th {\n",
       "        text-align: right;\n",
       "    }\n",
       "</style>\n",
       "<table border=\"1\" class=\"dataframe\">\n",
       "  <thead>\n",
       "    <tr style=\"text-align: right;\">\n",
       "      <th></th>\n",
       "      <th>category</th>\n",
       "      <th>ac_name</th>\n",
       "      <th>link</th>\n",
       "    </tr>\n",
       "  </thead>\n",
       "  <tbody>\n",
       "  </tbody>\n",
       "</table>\n",
       "</div>"
      ],
      "text/plain": [
       "Empty DataFrame\n",
       "Columns: [category, ac_name, link]\n",
       "Index: []"
      ]
     },
     "execution_count": 13,
     "metadata": {},
     "output_type": "execute_result"
    }
   ],
   "source": [
    "df.drop(index = list(link_dupes.index), inplace = True)\n",
    "df[df.duplicated(['link']) == True]"
   ]
  },
  {
   "cell_type": "code",
   "execution_count": 14,
   "id": "6f2564f0-7b89-454d-9c37-93f7ce6578fd",
   "metadata": {},
   "outputs": [
    {
     "data": {
      "text/plain": [
       "(88, 3)"
      ]
     },
     "execution_count": 14,
     "metadata": {},
     "output_type": "execute_result"
    }
   ],
   "source": [
    "df.shape"
   ]
  },
  {
   "cell_type": "markdown",
   "id": "aa4823d1-dfee-4ec8-b03f-894826e87434",
   "metadata": {},
   "source": [
    "## Check for null values"
   ]
  },
  {
   "cell_type": "code",
   "execution_count": 16,
   "id": "493d51cd-9442-42a9-ab1e-195d9f0559c6",
   "metadata": {},
   "outputs": [],
   "source": [
    "def check_na(updated_df):\n",
    "    \"\"\" checks dataframe for NA values and returns a dictionary with columns and their NA counts sorted by counts \"\"\"\n",
    "    \n",
    "    na_cols = list(updated_df.columns)\n",
    "\n",
    "    # find number of NA values for each column if they exist\n",
    "    # build dictionary\n",
    "    na_response = {col: updated_df['{}'.format(col)].isna().value_counts()[1] for col in na_cols \\\n",
    "                   if len(updated_df['{}'.format(col)].isna().value_counts())>1}\n",
    "    \n",
    "    if len(na_response) != 0:\n",
    "        \n",
    "        # sort dict by greatest NAs count \n",
    "        new_nas = dict(sorted(na_response.items(), key = lambda item: item[1]))\n",
    "        return new_nas\n",
    "    else: return \"No NA values in the dataframe\""
   ]
  },
  {
   "cell_type": "code",
   "execution_count": 17,
   "id": "552a542f-2fc9-4cd3-80ea-aeee352e441a",
   "metadata": {},
   "outputs": [
    {
     "data": {
      "text/plain": [
       "{'link': 1}"
      ]
     },
     "execution_count": 17,
     "metadata": {},
     "output_type": "execute_result"
    }
   ],
   "source": [
    "check_na(df)"
   ]
  },
  {
   "cell_type": "code",
   "execution_count": 18,
   "id": "33f21e0a-a2e9-41b9-86d0-369736980ae5",
   "metadata": {},
   "outputs": [
    {
     "data": {
      "text/html": [
       "<div>\n",
       "<style scoped>\n",
       "    .dataframe tbody tr th:only-of-type {\n",
       "        vertical-align: middle;\n",
       "    }\n",
       "\n",
       "    .dataframe tbody tr th {\n",
       "        vertical-align: top;\n",
       "    }\n",
       "\n",
       "    .dataframe thead th {\n",
       "        text-align: right;\n",
       "    }\n",
       "</style>\n",
       "<table border=\"1\" class=\"dataframe\">\n",
       "  <thead>\n",
       "    <tr style=\"text-align: right;\">\n",
       "      <th></th>\n",
       "      <th>category</th>\n",
       "      <th>ac_name</th>\n",
       "      <th>link</th>\n",
       "    </tr>\n",
       "  </thead>\n",
       "  <tbody>\n",
       "    <tr>\n",
       "      <th>0</th>\n",
       "      <td>watchlist</td>\n",
       "      <td>Airbus CityAirbus</td>\n",
       "      <td>https://transportup.com/airbus-cityairbus/</td>\n",
       "    </tr>\n",
       "    <tr>\n",
       "      <th>1</th>\n",
       "      <td>watchlist</td>\n",
       "      <td>Boeing PAV</td>\n",
       "      <td>https://transportup.com/aurora-flight-sciences...</td>\n",
       "    </tr>\n",
       "    <tr>\n",
       "      <th>2</th>\n",
       "      <td>watchlist</td>\n",
       "      <td>Bell Nexus Air Taxi</td>\n",
       "      <td>https://transportup.com/bell-air-taxi</td>\n",
       "    </tr>\n",
       "    <tr>\n",
       "      <th>3</th>\n",
       "      <td>watchlist</td>\n",
       "      <td>WISK Cora</td>\n",
       "      <td>https://transportup.com/wisk-cora/</td>\n",
       "    </tr>\n",
       "    <tr>\n",
       "      <th>4</th>\n",
       "      <td>watchlist</td>\n",
       "      <td>EHang 216</td>\n",
       "      <td>https://transportup.com/ehang-216/</td>\n",
       "    </tr>\n",
       "  </tbody>\n",
       "</table>\n",
       "</div>"
      ],
      "text/plain": [
       "    category              ac_name  \\\n",
       "0  watchlist    Airbus CityAirbus   \n",
       "1  watchlist           Boeing PAV   \n",
       "2  watchlist  Bell Nexus Air Taxi   \n",
       "3  watchlist            WISK Cora   \n",
       "4  watchlist            EHang 216   \n",
       "\n",
       "                                                link  \n",
       "0         https://transportup.com/airbus-cityairbus/  \n",
       "1  https://transportup.com/aurora-flight-sciences...  \n",
       "2              https://transportup.com/bell-air-taxi  \n",
       "3                 https://transportup.com/wisk-cora/  \n",
       "4                 https://transportup.com/ehang-216/  "
      ]
     },
     "execution_count": 18,
     "metadata": {},
     "output_type": "execute_result"
    }
   ],
   "source": [
    "df.head()"
   ]
  },
  {
   "cell_type": "markdown",
   "id": "d63aa627-66e3-4c14-98f5-a9a30876c244",
   "metadata": {},
   "source": [
    "## Send to .csv"
   ]
  },
  {
   "cell_type": "code",
   "execution_count": 19,
   "id": "1a1c2403-b777-4145-8bed-0c079c67c68d",
   "metadata": {},
   "outputs": [],
   "source": [
    "# builds .csv with today's date\n",
    "today = datetime.date.today()\n",
    "df.to_csv('tu_directory_{}.{}.{}.csv'.format(today.month, today.day, today.year))"
   ]
  },
  {
   "cell_type": "markdown",
   "id": "7d2f95a4-00c3-48f4-a921-a3490cf7d4bf",
   "metadata": {},
   "source": [
    "## Read in .csv -- Optional"
   ]
  },
  {
   "cell_type": "code",
   "execution_count": 20,
   "id": "80fd2087-bf1c-4fac-851d-e35d5c06b93d",
   "metadata": {},
   "outputs": [
    {
     "data": {
      "text/html": [
       "<div>\n",
       "<style scoped>\n",
       "    .dataframe tbody tr th:only-of-type {\n",
       "        vertical-align: middle;\n",
       "    }\n",
       "\n",
       "    .dataframe tbody tr th {\n",
       "        vertical-align: top;\n",
       "    }\n",
       "\n",
       "    .dataframe thead th {\n",
       "        text-align: right;\n",
       "    }\n",
       "</style>\n",
       "<table border=\"1\" class=\"dataframe\">\n",
       "  <thead>\n",
       "    <tr style=\"text-align: right;\">\n",
       "      <th></th>\n",
       "      <th>category</th>\n",
       "      <th>ac_name</th>\n",
       "      <th>link</th>\n",
       "    </tr>\n",
       "  </thead>\n",
       "  <tbody>\n",
       "    <tr>\n",
       "      <th>0</th>\n",
       "      <td>watchlist</td>\n",
       "      <td>Airbus CityAirbus</td>\n",
       "      <td>https://transportup.com/airbus-cityairbus/</td>\n",
       "    </tr>\n",
       "    <tr>\n",
       "      <th>1</th>\n",
       "      <td>watchlist</td>\n",
       "      <td>Boeing PAV</td>\n",
       "      <td>https://transportup.com/aurora-flight-sciences...</td>\n",
       "    </tr>\n",
       "    <tr>\n",
       "      <th>2</th>\n",
       "      <td>watchlist</td>\n",
       "      <td>Bell Nexus Air Taxi</td>\n",
       "      <td>https://transportup.com/bell-air-taxi</td>\n",
       "    </tr>\n",
       "    <tr>\n",
       "      <th>3</th>\n",
       "      <td>watchlist</td>\n",
       "      <td>WISK Cora</td>\n",
       "      <td>https://transportup.com/wisk-cora/</td>\n",
       "    </tr>\n",
       "    <tr>\n",
       "      <th>4</th>\n",
       "      <td>watchlist</td>\n",
       "      <td>EHang 216</td>\n",
       "      <td>https://transportup.com/ehang-216/</td>\n",
       "    </tr>\n",
       "    <tr>\n",
       "      <th>...</th>\n",
       "      <td>...</td>\n",
       "      <td>...</td>\n",
       "      <td>...</td>\n",
       "    </tr>\n",
       "    <tr>\n",
       "      <th>83</th>\n",
       "      <td>market</td>\n",
       "      <td>Koncepto Millenya</td>\n",
       "      <td>https://transportup.com/koncepto-millenya</td>\n",
       "    </tr>\n",
       "    <tr>\n",
       "      <th>84</th>\n",
       "      <td>market</td>\n",
       "      <td>Varon Vehicles V200</td>\n",
       "      <td>https://transportup.com/varon-v200/</td>\n",
       "    </tr>\n",
       "    <tr>\n",
       "      <th>85</th>\n",
       "      <td>market</td>\n",
       "      <td>Ghost X V 2.2</td>\n",
       "      <td>https://transportup.com/grug-group-ghost-x-v-2-2/</td>\n",
       "    </tr>\n",
       "    <tr>\n",
       "      <th>86</th>\n",
       "      <td>market</td>\n",
       "      <td>Imaginactive Onyx</td>\n",
       "      <td>https://transportup.com/imaginactive-onyx/</td>\n",
       "    </tr>\n",
       "    <tr>\n",
       "      <th>87</th>\n",
       "      <td>market</td>\n",
       "      <td>Volocopter VoloDrone</td>\n",
       "      <td>https://transportup.com/volocopter-volodrone/</td>\n",
       "    </tr>\n",
       "  </tbody>\n",
       "</table>\n",
       "<p>88 rows × 3 columns</p>\n",
       "</div>"
      ],
      "text/plain": [
       "     category               ac_name  \\\n",
       "0   watchlist     Airbus CityAirbus   \n",
       "1   watchlist            Boeing PAV   \n",
       "2   watchlist   Bell Nexus Air Taxi   \n",
       "3   watchlist             WISK Cora   \n",
       "4   watchlist             EHang 216   \n",
       "..        ...                   ...   \n",
       "83     market     Koncepto Millenya   \n",
       "84     market   Varon Vehicles V200   \n",
       "85     market         Ghost X V 2.2   \n",
       "86     market     Imaginactive Onyx   \n",
       "87     market  Volocopter VoloDrone   \n",
       "\n",
       "                                                 link  \n",
       "0          https://transportup.com/airbus-cityairbus/  \n",
       "1   https://transportup.com/aurora-flight-sciences...  \n",
       "2               https://transportup.com/bell-air-taxi  \n",
       "3                  https://transportup.com/wisk-cora/  \n",
       "4                  https://transportup.com/ehang-216/  \n",
       "..                                                ...  \n",
       "83          https://transportup.com/koncepto-millenya  \n",
       "84                https://transportup.com/varon-v200/  \n",
       "85  https://transportup.com/grug-group-ghost-x-v-2-2/  \n",
       "86         https://transportup.com/imaginactive-onyx/  \n",
       "87      https://transportup.com/volocopter-volodrone/  \n",
       "\n",
       "[88 rows x 3 columns]"
      ]
     },
     "execution_count": 20,
     "metadata": {},
     "output_type": "execute_result"
    }
   ],
   "source": [
    "transup_directory = pd.read_csv('tu_directory_7.12.2021.csv')\n",
    "transup_directory.drop(columns = 'Unnamed: 0', inplace = True)\n",
    "transup_directory"
   ]
  },
  {
   "cell_type": "markdown",
   "id": "541da0ec-cced-4e7f-bb19-956a8e1cae84",
   "metadata": {},
   "source": [
    "# PART II -- Scraping aircraft data"
   ]
  },
  {
   "cell_type": "markdown",
   "id": "8740ce97-e886-4f02-8bf9-bb5fc52b3b64",
   "metadata": {},
   "source": [
    "#### Data Points of interest\n",
    "\n",
    "1. Quick Summary\n",
    "    \n",
    "2. Stage of Development\n",
    "\n",
    "3. Technical Details\n",
    "\n",
    "\n",
    "    Examples:\n",
    "    \n",
    "    * Aircraft Type: \n",
    "\n",
    "    * Powerplant: \n",
    "\n",
    "    * Range:\n",
    "\n",
    "    * Top Speed:\n",
    "\n",
    "    * Propeller Configuration: \n",
    "\n",
    "    * Passenger/Payload Capacity:\n",
    "\n",
    "    * Autonomy Level:\n",
    "\n",
    "    * Wingspan/Dimensions:\n",
    "    \n",
    "    * Key Suppliers: \n",
    "    \n",
    "\n",
    "6. References\n"
   ]
  },
  {
   "cell_type": "markdown",
   "id": "67ca4185-b23c-4257-8f5f-2892e1ea887e",
   "metadata": {},
   "source": [
    "#### quick summary"
   ]
  },
  {
   "cell_type": "code",
   "execution_count": 33,
   "id": "f34e105b-84b0-4b1d-92da-c1eeb6be5fc2",
   "metadata": {},
   "outputs": [],
   "source": [
    "def get_summary(soup):\n",
    "\n",
    "    \"\"\" returns 'quick summary' from aircraft page \"\"\"\n",
    "    \n",
    "    # ptags\n",
    "    ptags = acsoup.find_all('p')\n",
    "\n",
    "    # second index ptag\n",
    "    summary = ptags[2].text.strip()\n",
    "    \n",
    "    return summary"
   ]
  },
  {
   "cell_type": "markdown",
   "id": "12bc0497-6401-4668-b575-2655d86215e8",
   "metadata": {},
   "source": [
    "#### Stage of Development"
   ]
  },
  {
   "cell_type": "code",
   "execution_count": 34,
   "id": "8c5784a1-4cc0-4562-9583-0fb3d3dd1538",
   "metadata": {},
   "outputs": [],
   "source": [
    "\n",
    "def get_devstage(soup):\n",
    "    \n",
    "    \"\"\"\n",
    "    \n",
    "    Overview:\n",
    "    \n",
    "    Returns the development stage in a string format given a bs4 soup object\n",
    "    \n",
    "    More details:\n",
    "    \n",
    "    x-icon picture index to development stage\n",
    "\n",
    "    0: \"preliminary design\"\n",
    "    1: \"prototype build\"\n",
    "    2: \"flight testing\"\n",
    "    3: \"certification\"\n",
    "    4: \"commercially operating\"\n",
    "\n",
    "    \"\"\"\n",
    "    stages_dict = {0: \"preliminary design\", 1: \"prototype build\", \\\n",
    "                  2: \"flight testing\", 3: \"certification\", 4: \"commercially operating\"}\n",
    "\n",
    "    # x-icons are in 'i' tags\n",
    "    itags = acsoup.find_all('i')\n",
    "\n",
    "    dev_stages = []\n",
    "    \n",
    "    try:\n",
    "\n",
    "        for tag in itags:\n",
    "            if 'data-x-icon' in tag.prettify():\n",
    "                dev_stages.append(tag)\n",
    "\n",
    "        for i, stage in enumerate(dev_stages):\n",
    "            # color attribute required, and 0% features of color attributes indicate false positives\n",
    "            if 'color' in stage.prettify() and '0%' not in stage.prettify():\n",
    "                stage_ind = i\n",
    "                break\n",
    "\n",
    "        dev_stage = stages_dict[stage_ind]\n",
    "        \n",
    "    except:\n",
    "        dev_stage = None\n",
    "\n",
    "    return dev_stage"
   ]
  },
  {
   "cell_type": "markdown",
   "id": "c8c8a08a-49fd-4a37-a44f-d3310c21c8ac",
   "metadata": {},
   "source": [
    "#### Technical Details and other"
   ]
  },
  {
   "cell_type": "code",
   "execution_count": 35,
   "id": "9aa269ce-71ea-4f4c-8ff4-b26c744d0d6a",
   "metadata": {},
   "outputs": [],
   "source": [
    "\n",
    "def get_details(soup, details_dict):\n",
    "    \n",
    "    \"\"\"\n",
    "    Builds a dictionary of all 'strong' elements as keys and element details as value.\n",
    "    Returns a dictionary \n",
    "\n",
    "    Params:\n",
    "\n",
    "    * soup object\n",
    "\n",
    "    * dictionary to build or update -- can be empty\n",
    "\n",
    "    Returns:\n",
    "\n",
    "    * dictionary of detail keys and their values\n",
    "\n",
    "\n",
    "    ## Example detail keys\n",
    "\n",
    "    #         * Powerplant: \n",
    "\n",
    "    #         * Range:\n",
    "\n",
    "    #         * Top Speed:\n",
    "\n",
    "    #         * Propeller Configuration: \n",
    "\n",
    "    #         * Passenger/Payload Capacity:\n",
    "\n",
    "    #         * Autonomy Level:\n",
    "\n",
    "    #         * Wingspan/Dimensions:\n",
    "\n",
    "    #         * Key Suppliers: \n",
    "\n",
    "\n",
    "    \"\"\"\n",
    "    acsoup = soup\n",
    "\n",
    "    ptags = acsoup.find_all('p')\n",
    "    \n",
    "    try:\n",
    "\n",
    "        for i, p in enumerate(ptags):\n",
    "            if p.strong:\n",
    "\n",
    "                # get detail key\n",
    "                key = p.strong.text.strip()\n",
    "                key = key.replace(\":\", \"\")\n",
    "\n",
    "                # get detail value\n",
    "                val = p.strong.next_sibling\n",
    "\n",
    "                # add to dict\n",
    "                details_dict[key] = val\n",
    "                \n",
    "    except:\n",
    "        \n",
    "        pass\n",
    "            \n",
    "    return details_dict\n"
   ]
  },
  {
   "cell_type": "markdown",
   "id": "c62550e8-c4c5-4596-b3b3-90bef5f9a52d",
   "metadata": {},
   "source": [
    "#### References"
   ]
  },
  {
   "cell_type": "code",
   "execution_count": 36,
   "id": "077537f9-c96c-4129-a95c-d6e3b6952c04",
   "metadata": {},
   "outputs": [],
   "source": [
    "def get_references(soup):\n",
    "    \n",
    "    \"\"\" gets reference links from aircraft page. Returns a list.\"\"\"\n",
    "    \n",
    "    ## Resources are the last unordered list\n",
    "    uls = acsoup.find_all('ul')\n",
    "    refs = uls[-1]\n",
    "    \n",
    "    # list items\n",
    "    lis = refs.find_all('li')\n",
    "    \n",
    "    links = []\n",
    "    \n",
    "    try:\n",
    "    \n",
    "        for li in lis:\n",
    "            if li.a:\n",
    "                link = li.a.get('href')\n",
    "                if 'transportup' not in link: \n",
    "                    links.append(link)\n",
    "                else: pass\n",
    "            else: pass\n",
    "            \n",
    "    except:\n",
    "        # empty list\n",
    "        return links\n",
    "        \n",
    "        # links list\n",
    "    return links\n",
    "    "
   ]
  },
  {
   "cell_type": "markdown",
   "id": "eb310c95-b602-401b-bfd6-1c2ceab9bf98",
   "metadata": {},
   "source": [
    "#### New Dataframe to populate"
   ]
  },
  {
   "cell_type": "code",
   "execution_count": 37,
   "id": "68caba36-0993-4963-86ad-2a967644c2c5",
   "metadata": {},
   "outputs": [],
   "source": [
    "# cols = list(transup_directory.columns)\n",
    "# results_df = pd.DataFrame(data = None, columns = cols)"
   ]
  },
  {
   "cell_type": "markdown",
   "id": "00d9d892-2a9d-4054-9611-0c54acfed2ec",
   "metadata": {},
   "source": [
    "#### Or Updating an Existing Dataframe"
   ]
  },
  {
   "cell_type": "code",
   "execution_count": 38,
   "id": "0fe488f1-48a3-4fc5-b096-15bc1c6786be",
   "metadata": {},
   "outputs": [],
   "source": [
    "# results_df = pd.read_csv('tu_results_df_7.11.2021.csv')\n",
    "# results_df.drop(columns = ['Unnamed: 0'], inplace = True)"
   ]
  },
  {
   "cell_type": "code",
   "execution_count": 39,
   "id": "804af481-eeef-4a99-b42e-f7803fa65708",
   "metadata": {},
   "outputs": [
    {
     "data": {
      "text/html": [
       "<div>\n",
       "<style scoped>\n",
       "    .dataframe tbody tr th:only-of-type {\n",
       "        vertical-align: middle;\n",
       "    }\n",
       "\n",
       "    .dataframe tbody tr th {\n",
       "        vertical-align: top;\n",
       "    }\n",
       "\n",
       "    .dataframe thead th {\n",
       "        text-align: right;\n",
       "    }\n",
       "</style>\n",
       "<table border=\"1\" class=\"dataframe\">\n",
       "  <thead>\n",
       "    <tr style=\"text-align: right;\">\n",
       "      <th></th>\n",
       "      <th>category</th>\n",
       "      <th>ac_name</th>\n",
       "      <th>ac_type</th>\n",
       "      <th>link</th>\n",
       "      <th>ac_type_detail</th>\n",
       "      <th>Autonomy Level</th>\n",
       "      <th>Dimensions</th>\n",
       "      <th>Powerplant</th>\n",
       "      <th>Propeller Configuration</th>\n",
       "      <th>Range</th>\n",
       "      <th>Top Speed</th>\n",
       "      <th>dev_stage</th>\n",
       "      <th>references</th>\n",
       "      <th>summary</th>\n",
       "      <th>Passenger/Payload Capacity</th>\n",
       "      <th>Wingspan/Dimensions</th>\n",
       "      <th>prod_stage</th>\n",
       "      <th>powerplant_category</th>\n",
       "      <th>autonomous level</th>\n",
       "    </tr>\n",
       "  </thead>\n",
       "  <tbody>\n",
       "    <tr>\n",
       "      <th>0</th>\n",
       "      <td>watchlist</td>\n",
       "      <td>Airbus CityAirbus</td>\n",
       "      <td>Wingless VTOL</td>\n",
       "      <td>https://transportup.com/airbus-cityairbus/</td>\n",
       "      <td>Wingless eVTOL, Intracity</td>\n",
       "      <td>Autonomous</td>\n",
       "      <td>9ft propellor diameter, 26 ft length</td>\n",
       "      <td>All-Electric</td>\n",
       "      <td>8 lift/thrust rotors (4 dual rotors)</td>\n",
       "      <td>60 miles</td>\n",
       "      <td>&lt;span&gt; &lt;/span&gt;</td>\n",
       "      <td>preliminary design</td>\n",
       "      <td>['http://www.airbus.com/newsroom/press-release...</td>\n",
       "      <td>The Airbus CityAirbus is the long view approac...</td>\n",
       "      <td>NaN</td>\n",
       "      <td>NaN</td>\n",
       "      <td>pre production</td>\n",
       "      <td>electric</td>\n",
       "      <td>autonomous</td>\n",
       "    </tr>\n",
       "    <tr>\n",
       "      <th>1</th>\n",
       "      <td>watchlist</td>\n",
       "      <td>Boeing PAV</td>\n",
       "      <td>Winged VTOL</td>\n",
       "      <td>https://transportup.com/aurora-flight-sciences...</td>\n",
       "      <td>Winged VTOL</td>\n",
       "      <td>Autonomous</td>\n",
       "      <td>30 feet wingspan, 28ft length</td>\n",
       "      <td>All-electric</td>\n",
       "      <td>8 lifting rotors, 1 pusher propeller</td>\n",
       "      <td>50 miles</td>\n",
       "      <td>Undisclosed</td>\n",
       "      <td>flight testing</td>\n",
       "      <td>['http://www.aurora.aero/pav-evtol-passenger-a...</td>\n",
       "      <td>The Boeing Passenger Air Vehicle is a venture ...</td>\n",
       "      <td>Two-seater</td>\n",
       "      <td>NaN</td>\n",
       "      <td>prototype production</td>\n",
       "      <td>electric</td>\n",
       "      <td>autonomous</td>\n",
       "    </tr>\n",
       "    <tr>\n",
       "      <th>2</th>\n",
       "      <td>watchlist</td>\n",
       "      <td>Bell Nexus Air Taxi</td>\n",
       "      <td>Winged VTOL</td>\n",
       "      <td>https://transportup.com/bell-air-taxi</td>\n",
       "      <td>Winged VTOL</td>\n",
       "      <td>Semi-Autonomous</td>\n",
       "      <td></td>\n",
       "      <td>6HX - Hybrid-Electric; 4EX - All-Electric</td>\n",
       "      <td>6HX - 6 tilt-rotors; 4EX - 4 tilt-rotors  (al...</td>\n",
       "      <td>6HX - 150 miles; 4EX - 60 miles</td>\n",
       "      <td>150 mph</td>\n",
       "      <td>prototype build</td>\n",
       "      <td>['http://www.bellflight.com', 'http://eepurl.c...</td>\n",
       "      <td>The Bell Nexus is Bell Flight's Air Taxi, of w...</td>\n",
       "      <td>NaN</td>\n",
       "      <td>NaN</td>\n",
       "      <td>prototype production</td>\n",
       "      <td>hybrid electric</td>\n",
       "      <td>semi autonomous</td>\n",
       "    </tr>\n",
       "    <tr>\n",
       "      <th>3</th>\n",
       "      <td>watchlist</td>\n",
       "      <td>WISK Cora</td>\n",
       "      <td>Winged VTOL</td>\n",
       "      <td>https://transportup.com/wisk-cora/</td>\n",
       "      <td>NaN</td>\n",
       "      <td>Autonomous</td>\n",
       "      <td>NaN</td>\n",
       "      <td>NaN</td>\n",
       "      <td>6 lift propellers under each wing (non-tilting...</td>\n",
       "      <td>NaN</td>\n",
       "      <td>NaN</td>\n",
       "      <td>flight testing</td>\n",
       "      <td>['http://kittyhawk.aero', 'http://eepurl.com/d...</td>\n",
       "      <td>Cora is an experimental airworthiness certific...</td>\n",
       "      <td>NaN</td>\n",
       "      <td>NaN</td>\n",
       "      <td>prototype production</td>\n",
       "      <td>undisclosed</td>\n",
       "      <td>autonomous</td>\n",
       "    </tr>\n",
       "    <tr>\n",
       "      <th>4</th>\n",
       "      <td>watchlist</td>\n",
       "      <td>EHang 216</td>\n",
       "      <td>Wingless VTOL</td>\n",
       "      <td>https://transportup.com/ehang-216/</td>\n",
       "      <td>&lt;span&gt; &lt;/span&gt;</td>\n",
       "      <td>&lt;span&gt; &lt;/span&gt;</td>\n",
       "      <td>18' 4\" wingspan, 5' 9\" length</td>\n",
       "      <td>: All-Electric</td>\n",
       "      <td>16 lift/thrust rotors (8 dual rotors)</td>\n",
       "      <td>22 miles with max payload</td>\n",
       "      <td>80 mph</td>\n",
       "      <td>certification</td>\n",
       "      <td>['http://www.ehang.com/ehang184/', 'http://eep...</td>\n",
       "      <td>The Ehang AAV is the largest autonomous aerial...</td>\n",
       "      <td>2 Passengers, or 485 lbs total payload</td>\n",
       "      <td>NaN</td>\n",
       "      <td>lrp</td>\n",
       "      <td>electric</td>\n",
       "      <td>undisclosed</td>\n",
       "    </tr>\n",
       "  </tbody>\n",
       "</table>\n",
       "</div>"
      ],
      "text/plain": [
       "    category              ac_name        ac_type  \\\n",
       "0  watchlist    Airbus CityAirbus  Wingless VTOL   \n",
       "1  watchlist           Boeing PAV    Winged VTOL   \n",
       "2  watchlist  Bell Nexus Air Taxi    Winged VTOL   \n",
       "3  watchlist            WISK Cora    Winged VTOL   \n",
       "4  watchlist            EHang 216  Wingless VTOL   \n",
       "\n",
       "                                                link  \\\n",
       "0         https://transportup.com/airbus-cityairbus/   \n",
       "1  https://transportup.com/aurora-flight-sciences...   \n",
       "2              https://transportup.com/bell-air-taxi   \n",
       "3                 https://transportup.com/wisk-cora/   \n",
       "4                 https://transportup.com/ehang-216/   \n",
       "\n",
       "              ac_type_detail   Autonomy Level  \\\n",
       "0  Wingless eVTOL, Intracity       Autonomous   \n",
       "1                Winged VTOL       Autonomous   \n",
       "2                Winged VTOL  Semi-Autonomous   \n",
       "3                        NaN       Autonomous   \n",
       "4             <span> </span>   <span> </span>   \n",
       "\n",
       "                              Dimensions  \\\n",
       "0   9ft propellor diameter, 26 ft length   \n",
       "1          30 feet wingspan, 28ft length   \n",
       "2                                          \n",
       "3                                    NaN   \n",
       "4          18' 4\" wingspan, 5' 9\" length   \n",
       "\n",
       "                                   Powerplant  \\\n",
       "0                                All-Electric   \n",
       "1                                All-electric   \n",
       "2   6HX - Hybrid-Electric; 4EX - All-Electric   \n",
       "3                                         NaN   \n",
       "4                              : All-Electric   \n",
       "\n",
       "                             Propeller Configuration  \\\n",
       "0               8 lift/thrust rotors (4 dual rotors)   \n",
       "1               8 lifting rotors, 1 pusher propeller   \n",
       "2   6HX - 6 tilt-rotors; 4EX - 4 tilt-rotors  (al...   \n",
       "3  6 lift propellers under each wing (non-tilting...   \n",
       "4              16 lift/thrust rotors (8 dual rotors)   \n",
       "\n",
       "                              Range       Top Speed           dev_stage  \\\n",
       "0                          60 miles  <span> </span>  preliminary design   \n",
       "1                          50 miles     Undisclosed      flight testing   \n",
       "2   6HX - 150 miles; 4EX - 60 miles         150 mph     prototype build   \n",
       "3                               NaN             NaN      flight testing   \n",
       "4         22 miles with max payload          80 mph       certification   \n",
       "\n",
       "                                          references  \\\n",
       "0  ['http://www.airbus.com/newsroom/press-release...   \n",
       "1  ['http://www.aurora.aero/pav-evtol-passenger-a...   \n",
       "2  ['http://www.bellflight.com', 'http://eepurl.c...   \n",
       "3  ['http://kittyhawk.aero', 'http://eepurl.com/d...   \n",
       "4  ['http://www.ehang.com/ehang184/', 'http://eep...   \n",
       "\n",
       "                                             summary  \\\n",
       "0  The Airbus CityAirbus is the long view approac...   \n",
       "1  The Boeing Passenger Air Vehicle is a venture ...   \n",
       "2  The Bell Nexus is Bell Flight's Air Taxi, of w...   \n",
       "3  Cora is an experimental airworthiness certific...   \n",
       "4  The Ehang AAV is the largest autonomous aerial...   \n",
       "\n",
       "                Passenger/Payload Capacity Wingspan/Dimensions  \\\n",
       "0                                      NaN                 NaN   \n",
       "1                               Two-seater                 NaN   \n",
       "2                                      NaN                 NaN   \n",
       "3                                      NaN                 NaN   \n",
       "4   2 Passengers, or 485 lbs total payload                 NaN   \n",
       "\n",
       "             prod_stage powerplant_category autonomous level  \n",
       "0        pre production            electric       autonomous  \n",
       "1  prototype production            electric       autonomous  \n",
       "2  prototype production     hybrid electric  semi autonomous  \n",
       "3  prototype production         undisclosed       autonomous  \n",
       "4                   lrp            electric      undisclosed  "
      ]
     },
     "execution_count": 39,
     "metadata": {},
     "output_type": "execute_result"
    }
   ],
   "source": [
    "results_df.head()"
   ]
  },
  {
   "cell_type": "markdown",
   "id": "d6c751c6-6a46-428a-aee4-d13525e64bc7",
   "metadata": {},
   "source": [
    "## PART II -- Scraping new aircraft data"
   ]
  },
  {
   "cell_type": "code",
   "execution_count": 40,
   "id": "5da7873f-536d-438e-b23f-77d15342d651",
   "metadata": {
    "tags": []
   },
   "outputs": [],
   "source": [
    "\n",
    "def get_tu_acdata(directory_df, results_df):\n",
    "    \n",
    "    \"\"\"\n",
    "    \n",
    "    Overview:\n",
    "    \n",
    "    Compares url links from up-to-date directory with url links \n",
    "    in current dataframe -- or new dataframe if starting from scratch -- and updates results_df with new data.\n",
    "    \n",
    "    Use case:\n",
    "    \n",
    "    * Starting a dataframe from scratch --> pass an empty df parameter\n",
    "    \n",
    "    * Updating a current dataframe --> pass current dataframe\n",
    "    \n",
    "    \n",
    "    \"\"\"\n",
    "\n",
    "    transup_directory = directory_df\n",
    "    \n",
    "    update_counter = 0\n",
    "\n",
    "    ## if the transup aircraft link is not already in the new dataframe, scrape.\n",
    "    for i, link in enumerate(transup_directory['link']):\n",
    "\n",
    "        if link not in list(results_df['link']):\n",
    "\n",
    "            # data for dataframe append\n",
    "            ac_data = {}\n",
    "\n",
    "            try:\n",
    "\n",
    "                # get soup object\n",
    "                acsoup = get_bs4(link)\n",
    "\n",
    "                # get category from source dataframe\n",
    "                ac_data['category'] = transup_directory['category'][i]\n",
    "\n",
    "                # get category from source dataframe\n",
    "                ac_data['ac_name'] = transup_directory['ac_name'][i]\n",
    "\n",
    "                # get link\n",
    "                ac_data['link'] = link\n",
    "\n",
    "                # returns summary string\n",
    "                summary = get_summary(acsoup)\n",
    "                ac_data['summary'] = summary\n",
    "\n",
    "                # returns string of dev stage\n",
    "                dev_stage = get_devstage(acsoup)\n",
    "                ac_data['dev_stage'] = dev_stage\n",
    "\n",
    "                # returns list\n",
    "                references = get_references(acsoup)\n",
    "                ac_data['references'] = references\n",
    "\n",
    "                # returns dict OR updated dict\n",
    "                ac_data = get_details(acsoup, ac_data)\n",
    "\n",
    "                # print(ac_data)\n",
    "\n",
    "                results_df = results_df.append(ac_data, ignore_index = True)\n",
    "\n",
    "                print(\"Successfully appended a row to dataframe, index: \", i, \"link: \", link)\n",
    "                \n",
    "                update_counter += 1\n",
    "\n",
    "            except: \n",
    "                print(\"Error at: \", i, \", link: \", link)\n",
    "\n",
    "            time.sleep(random.randint(5, 7))\n",
    "            \n",
    "            print(\"\")\n",
    "            print(\"Summary: \")\n",
    "            \n",
    "            if update_counter > 0:\n",
    "                print(\"Added \", update_counter, \"new aircraft\")\n",
    "            else:\n",
    "                print(\"Nothing was updated\")"
   ]
  },
  {
   "cell_type": "markdown",
   "id": "151a9646-cf6a-4fac-b5b3-8c35866eb0a4",
   "metadata": {},
   "source": [
    "#### Run loop function to add new aircraft to dataframe"
   ]
  },
  {
   "cell_type": "code",
   "execution_count": 29,
   "id": "4da08156-0331-41dd-93f2-c38d02c1eefd",
   "metadata": {},
   "outputs": [
    {
     "name": "stdout",
     "output_type": "stream",
     "text": [
      "Error at:  52 , link:  nan\n",
      "\n",
      "Summary: \n",
      "Nothing was updated\n"
     ]
    }
   ],
   "source": [
    "get_tu_acdata(transup_directory, results_df)"
   ]
  },
  {
   "cell_type": "code",
   "execution_count": 41,
   "id": "9890687e-00c0-4c83-b638-e69501ec960f",
   "metadata": {},
   "outputs": [
    {
     "data": {
      "text/html": [
       "<div>\n",
       "<style scoped>\n",
       "    .dataframe tbody tr th:only-of-type {\n",
       "        vertical-align: middle;\n",
       "    }\n",
       "\n",
       "    .dataframe tbody tr th {\n",
       "        vertical-align: top;\n",
       "    }\n",
       "\n",
       "    .dataframe thead th {\n",
       "        text-align: right;\n",
       "    }\n",
       "</style>\n",
       "<table border=\"1\" class=\"dataframe\">\n",
       "  <thead>\n",
       "    <tr style=\"text-align: right;\">\n",
       "      <th></th>\n",
       "      <th>category</th>\n",
       "      <th>ac_name</th>\n",
       "      <th>ac_type</th>\n",
       "      <th>link</th>\n",
       "      <th>ac_type_detail</th>\n",
       "      <th>Autonomy Level</th>\n",
       "      <th>Dimensions</th>\n",
       "      <th>Powerplant</th>\n",
       "      <th>Propeller Configuration</th>\n",
       "      <th>Range</th>\n",
       "      <th>Top Speed</th>\n",
       "      <th>dev_stage</th>\n",
       "      <th>references</th>\n",
       "      <th>summary</th>\n",
       "      <th>Passenger/Payload Capacity</th>\n",
       "      <th>Wingspan/Dimensions</th>\n",
       "      <th>prod_stage</th>\n",
       "      <th>powerplant_category</th>\n",
       "      <th>autonomous level</th>\n",
       "    </tr>\n",
       "  </thead>\n",
       "  <tbody>\n",
       "    <tr>\n",
       "      <th>0</th>\n",
       "      <td>watchlist</td>\n",
       "      <td>Airbus CityAirbus</td>\n",
       "      <td>Wingless VTOL</td>\n",
       "      <td>https://transportup.com/airbus-cityairbus/</td>\n",
       "      <td>Wingless eVTOL, Intracity</td>\n",
       "      <td>Autonomous</td>\n",
       "      <td>9ft propellor diameter, 26 ft length</td>\n",
       "      <td>All-Electric</td>\n",
       "      <td>8 lift/thrust rotors (4 dual rotors)</td>\n",
       "      <td>60 miles</td>\n",
       "      <td>&lt;span&gt; &lt;/span&gt;</td>\n",
       "      <td>preliminary design</td>\n",
       "      <td>['http://www.airbus.com/newsroom/press-release...</td>\n",
       "      <td>The Airbus CityAirbus is the long view approac...</td>\n",
       "      <td>NaN</td>\n",
       "      <td>NaN</td>\n",
       "      <td>pre production</td>\n",
       "      <td>electric</td>\n",
       "      <td>autonomous</td>\n",
       "    </tr>\n",
       "    <tr>\n",
       "      <th>1</th>\n",
       "      <td>watchlist</td>\n",
       "      <td>Boeing PAV</td>\n",
       "      <td>Winged VTOL</td>\n",
       "      <td>https://transportup.com/aurora-flight-sciences...</td>\n",
       "      <td>Winged VTOL</td>\n",
       "      <td>Autonomous</td>\n",
       "      <td>30 feet wingspan, 28ft length</td>\n",
       "      <td>All-electric</td>\n",
       "      <td>8 lifting rotors, 1 pusher propeller</td>\n",
       "      <td>50 miles</td>\n",
       "      <td>Undisclosed</td>\n",
       "      <td>flight testing</td>\n",
       "      <td>['http://www.aurora.aero/pav-evtol-passenger-a...</td>\n",
       "      <td>The Boeing Passenger Air Vehicle is a venture ...</td>\n",
       "      <td>Two-seater</td>\n",
       "      <td>NaN</td>\n",
       "      <td>prototype production</td>\n",
       "      <td>electric</td>\n",
       "      <td>autonomous</td>\n",
       "    </tr>\n",
       "    <tr>\n",
       "      <th>2</th>\n",
       "      <td>watchlist</td>\n",
       "      <td>Bell Nexus Air Taxi</td>\n",
       "      <td>Winged VTOL</td>\n",
       "      <td>https://transportup.com/bell-air-taxi</td>\n",
       "      <td>Winged VTOL</td>\n",
       "      <td>Semi-Autonomous</td>\n",
       "      <td></td>\n",
       "      <td>6HX - Hybrid-Electric; 4EX - All-Electric</td>\n",
       "      <td>6HX - 6 tilt-rotors; 4EX - 4 tilt-rotors  (al...</td>\n",
       "      <td>6HX - 150 miles; 4EX - 60 miles</td>\n",
       "      <td>150 mph</td>\n",
       "      <td>prototype build</td>\n",
       "      <td>['http://www.bellflight.com', 'http://eepurl.c...</td>\n",
       "      <td>The Bell Nexus is Bell Flight's Air Taxi, of w...</td>\n",
       "      <td>NaN</td>\n",
       "      <td>NaN</td>\n",
       "      <td>prototype production</td>\n",
       "      <td>hybrid electric</td>\n",
       "      <td>semi autonomous</td>\n",
       "    </tr>\n",
       "  </tbody>\n",
       "</table>\n",
       "</div>"
      ],
      "text/plain": [
       "    category              ac_name        ac_type  \\\n",
       "0  watchlist    Airbus CityAirbus  Wingless VTOL   \n",
       "1  watchlist           Boeing PAV    Winged VTOL   \n",
       "2  watchlist  Bell Nexus Air Taxi    Winged VTOL   \n",
       "\n",
       "                                                link  \\\n",
       "0         https://transportup.com/airbus-cityairbus/   \n",
       "1  https://transportup.com/aurora-flight-sciences...   \n",
       "2              https://transportup.com/bell-air-taxi   \n",
       "\n",
       "              ac_type_detail   Autonomy Level  \\\n",
       "0  Wingless eVTOL, Intracity       Autonomous   \n",
       "1                Winged VTOL       Autonomous   \n",
       "2                Winged VTOL  Semi-Autonomous   \n",
       "\n",
       "                              Dimensions  \\\n",
       "0   9ft propellor diameter, 26 ft length   \n",
       "1          30 feet wingspan, 28ft length   \n",
       "2                                          \n",
       "\n",
       "                                   Powerplant  \\\n",
       "0                                All-Electric   \n",
       "1                                All-electric   \n",
       "2   6HX - Hybrid-Electric; 4EX - All-Electric   \n",
       "\n",
       "                             Propeller Configuration  \\\n",
       "0               8 lift/thrust rotors (4 dual rotors)   \n",
       "1               8 lifting rotors, 1 pusher propeller   \n",
       "2   6HX - 6 tilt-rotors; 4EX - 4 tilt-rotors  (al...   \n",
       "\n",
       "                              Range       Top Speed           dev_stage  \\\n",
       "0                          60 miles  <span> </span>  preliminary design   \n",
       "1                          50 miles     Undisclosed      flight testing   \n",
       "2   6HX - 150 miles; 4EX - 60 miles         150 mph     prototype build   \n",
       "\n",
       "                                          references  \\\n",
       "0  ['http://www.airbus.com/newsroom/press-release...   \n",
       "1  ['http://www.aurora.aero/pav-evtol-passenger-a...   \n",
       "2  ['http://www.bellflight.com', 'http://eepurl.c...   \n",
       "\n",
       "                                             summary  \\\n",
       "0  The Airbus CityAirbus is the long view approac...   \n",
       "1  The Boeing Passenger Air Vehicle is a venture ...   \n",
       "2  The Bell Nexus is Bell Flight's Air Taxi, of w...   \n",
       "\n",
       "  Passenger/Payload Capacity Wingspan/Dimensions            prod_stage  \\\n",
       "0                        NaN                 NaN        pre production   \n",
       "1                 Two-seater                 NaN  prototype production   \n",
       "2                        NaN                 NaN  prototype production   \n",
       "\n",
       "  powerplant_category autonomous level  \n",
       "0            electric       autonomous  \n",
       "1            electric       autonomous  \n",
       "2     hybrid electric  semi autonomous  "
      ]
     },
     "execution_count": 41,
     "metadata": {},
     "output_type": "execute_result"
    }
   ],
   "source": [
    "results_df.head(3)"
   ]
  },
  {
   "cell_type": "markdown",
   "id": "e314b906-e5f9-4efa-89df-4b5ac5660b94",
   "metadata": {},
   "source": [
    "## Send to .csv"
   ]
  },
  {
   "cell_type": "code",
   "execution_count": 42,
   "id": "1e2905d4-c768-4af8-bc64-bd69fcc95e20",
   "metadata": {},
   "outputs": [],
   "source": [
    "# builds .csv with today's date\n",
    "# today = datetime.date.today()\n",
    "# results_df.to_csv('tu_results_df_{}.{}.{}.csv'.format(today.month, today.day, today.year))"
   ]
  },
  {
   "cell_type": "markdown",
   "id": "044ae51e-9b1f-45ee-a53a-73a919235a18",
   "metadata": {},
   "source": [
    "# PART III -- Data Cleaning"
   ]
  },
  {
   "cell_type": "markdown",
   "id": "cd4b0bf9-9567-4bbe-9e18-682bfec6e752",
   "metadata": {},
   "source": [
    "#### Read in .csv"
   ]
  },
  {
   "cell_type": "code",
   "execution_count": 43,
   "id": "2ef2456c-67c2-4e6d-b272-509509fa6900",
   "metadata": {},
   "outputs": [],
   "source": [
    "# results_df = pd.read_csv('tu_results_df_7.11.2021.csv')\n",
    "# results_df.drop(columns = ['Unnamed: 0'], inplace = True)"
   ]
  },
  {
   "cell_type": "code",
   "execution_count": 44,
   "id": "23d7c7c2-5568-4092-8aca-f6bd740b24c8",
   "metadata": {},
   "outputs": [
    {
     "data": {
      "text/plain": [
       "(87, 19)"
      ]
     },
     "execution_count": 44,
     "metadata": {},
     "output_type": "execute_result"
    }
   ],
   "source": [
    "results_df.shape"
   ]
  },
  {
   "cell_type": "code",
   "execution_count": 309,
   "id": "1e08f5a9-e35c-408b-acb6-a299b5ab1492",
   "metadata": {},
   "outputs": [
    {
     "data": {
      "text/html": [
       "<div>\n",
       "<style scoped>\n",
       "    .dataframe tbody tr th:only-of-type {\n",
       "        vertical-align: middle;\n",
       "    }\n",
       "\n",
       "    .dataframe tbody tr th {\n",
       "        vertical-align: top;\n",
       "    }\n",
       "\n",
       "    .dataframe thead th {\n",
       "        text-align: right;\n",
       "    }\n",
       "</style>\n",
       "<table border=\"1\" class=\"dataframe\">\n",
       "  <thead>\n",
       "    <tr style=\"text-align: right;\">\n",
       "      <th></th>\n",
       "      <th>category</th>\n",
       "      <th>ac_name</th>\n",
       "      <th>ac_type</th>\n",
       "      <th>link</th>\n",
       "      <th>ac_type_detail</th>\n",
       "      <th>Autonomy Level</th>\n",
       "      <th>Dimensions</th>\n",
       "      <th>Powerplant</th>\n",
       "      <th>Propeller Configuration</th>\n",
       "      <th>Range</th>\n",
       "      <th>Top Speed</th>\n",
       "      <th>dev_stage</th>\n",
       "      <th>references</th>\n",
       "      <th>summary</th>\n",
       "      <th>Passenger/Payload Capacity</th>\n",
       "      <th>Wingspan/Dimensions</th>\n",
       "      <th>prod_stage</th>\n",
       "      <th>powerplant_category</th>\n",
       "      <th>autonomous level</th>\n",
       "    </tr>\n",
       "  </thead>\n",
       "  <tbody>\n",
       "    <tr>\n",
       "      <th>0</th>\n",
       "      <td>watchlist</td>\n",
       "      <td>Airbus CityAirbus</td>\n",
       "      <td>Wingless VTOL</td>\n",
       "      <td>https://transportup.com/airbus-cityairbus/</td>\n",
       "      <td>Wingless eVTOL, Intracity</td>\n",
       "      <td>Autonomous</td>\n",
       "      <td>9ft propellor diameter, 26 ft length</td>\n",
       "      <td>All-Electric</td>\n",
       "      <td>8 lift/thrust rotors (4 dual rotors)</td>\n",
       "      <td>60 miles</td>\n",
       "      <td>&lt;span&gt; &lt;/span&gt;</td>\n",
       "      <td>preliminary design</td>\n",
       "      <td>['http://www.airbus.com/newsroom/press-release...</td>\n",
       "      <td>The Airbus CityAirbus is the long view approac...</td>\n",
       "      <td>NaN</td>\n",
       "      <td>NaN</td>\n",
       "      <td>pre production</td>\n",
       "      <td>electric</td>\n",
       "      <td>autonomous</td>\n",
       "    </tr>\n",
       "    <tr>\n",
       "      <th>1</th>\n",
       "      <td>watchlist</td>\n",
       "      <td>Boeing PAV</td>\n",
       "      <td>Winged VTOL</td>\n",
       "      <td>https://transportup.com/aurora-flight-sciences...</td>\n",
       "      <td>Winged VTOL</td>\n",
       "      <td>Autonomous</td>\n",
       "      <td>30 feet wingspan, 28ft length</td>\n",
       "      <td>All-electric</td>\n",
       "      <td>8 lifting rotors, 1 pusher propeller</td>\n",
       "      <td>50 miles</td>\n",
       "      <td>Undisclosed</td>\n",
       "      <td>flight testing</td>\n",
       "      <td>['http://www.aurora.aero/pav-evtol-passenger-a...</td>\n",
       "      <td>The Boeing Passenger Air Vehicle is a venture ...</td>\n",
       "      <td>Two-seater</td>\n",
       "      <td>NaN</td>\n",
       "      <td>prototype production</td>\n",
       "      <td>electric</td>\n",
       "      <td>autonomous</td>\n",
       "    </tr>\n",
       "    <tr>\n",
       "      <th>2</th>\n",
       "      <td>watchlist</td>\n",
       "      <td>Bell Nexus Air Taxi</td>\n",
       "      <td>Winged VTOL</td>\n",
       "      <td>https://transportup.com/bell-air-taxi</td>\n",
       "      <td>Winged VTOL</td>\n",
       "      <td>Semi-Autonomous</td>\n",
       "      <td></td>\n",
       "      <td>6HX - Hybrid-Electric; 4EX - All-Electric</td>\n",
       "      <td>6HX - 6 tilt-rotors; 4EX - 4 tilt-rotors  (al...</td>\n",
       "      <td>6HX - 150 miles; 4EX - 60 miles</td>\n",
       "      <td>150 mph</td>\n",
       "      <td>prototype build</td>\n",
       "      <td>['http://www.bellflight.com', 'http://eepurl.c...</td>\n",
       "      <td>The Bell Nexus is Bell Flight's Air Taxi, of w...</td>\n",
       "      <td>NaN</td>\n",
       "      <td>NaN</td>\n",
       "      <td>prototype production</td>\n",
       "      <td>hybrid electric</td>\n",
       "      <td>semi autonomous</td>\n",
       "    </tr>\n",
       "  </tbody>\n",
       "</table>\n",
       "</div>"
      ],
      "text/plain": [
       "    category              ac_name        ac_type  \\\n",
       "0  watchlist    Airbus CityAirbus  Wingless VTOL   \n",
       "1  watchlist           Boeing PAV    Winged VTOL   \n",
       "2  watchlist  Bell Nexus Air Taxi    Winged VTOL   \n",
       "\n",
       "                                                link  \\\n",
       "0         https://transportup.com/airbus-cityairbus/   \n",
       "1  https://transportup.com/aurora-flight-sciences...   \n",
       "2              https://transportup.com/bell-air-taxi   \n",
       "\n",
       "              ac_type_detail   Autonomy Level  \\\n",
       "0  Wingless eVTOL, Intracity       Autonomous   \n",
       "1                Winged VTOL       Autonomous   \n",
       "2                Winged VTOL  Semi-Autonomous   \n",
       "\n",
       "                              Dimensions  \\\n",
       "0   9ft propellor diameter, 26 ft length   \n",
       "1          30 feet wingspan, 28ft length   \n",
       "2                                          \n",
       "\n",
       "                                   Powerplant  \\\n",
       "0                                All-Electric   \n",
       "1                                All-electric   \n",
       "2   6HX - Hybrid-Electric; 4EX - All-Electric   \n",
       "\n",
       "                             Propeller Configuration  \\\n",
       "0               8 lift/thrust rotors (4 dual rotors)   \n",
       "1               8 lifting rotors, 1 pusher propeller   \n",
       "2   6HX - 6 tilt-rotors; 4EX - 4 tilt-rotors  (al...   \n",
       "\n",
       "                              Range       Top Speed           dev_stage  \\\n",
       "0                          60 miles  <span> </span>  preliminary design   \n",
       "1                          50 miles     Undisclosed      flight testing   \n",
       "2   6HX - 150 miles; 4EX - 60 miles         150 mph     prototype build   \n",
       "\n",
       "                                          references  \\\n",
       "0  ['http://www.airbus.com/newsroom/press-release...   \n",
       "1  ['http://www.aurora.aero/pav-evtol-passenger-a...   \n",
       "2  ['http://www.bellflight.com', 'http://eepurl.c...   \n",
       "\n",
       "                                             summary  \\\n",
       "0  The Airbus CityAirbus is the long view approac...   \n",
       "1  The Boeing Passenger Air Vehicle is a venture ...   \n",
       "2  The Bell Nexus is Bell Flight's Air Taxi, of w...   \n",
       "\n",
       "  Passenger/Payload Capacity Wingspan/Dimensions            prod_stage  \\\n",
       "0                        NaN                 NaN        pre production   \n",
       "1                 Two-seater                 NaN  prototype production   \n",
       "2                        NaN                 NaN  prototype production   \n",
       "\n",
       "  powerplant_category autonomous level  \n",
       "0            electric       autonomous  \n",
       "1            electric       autonomous  \n",
       "2     hybrid electric  semi autonomous  "
      ]
     },
     "execution_count": 309,
     "metadata": {},
     "output_type": "execute_result"
    }
   ],
   "source": [
    "results_df.head(3)"
   ]
  },
  {
   "cell_type": "markdown",
   "id": "038d6f96-6b61-4c5d-8037-88d3cbeaebdc",
   "metadata": {},
   "source": [
    "### III.i - Handling null values"
   ]
  },
  {
   "cell_type": "markdown",
   "id": "d8bac2a4-adce-422c-b35e-6cd2ea1f3b87",
   "metadata": {},
   "source": [
    "* There are alot of columns with null values for each row. \n",
    "\n",
    "* Find the columns where a significant majority are null. \n",
    "\n",
    "* Delete"
   ]
  },
  {
   "cell_type": "code",
   "execution_count": 45,
   "id": "4e2f0401-13cb-4f86-97c4-a2a06486a92c",
   "metadata": {},
   "outputs": [],
   "source": [
    "# Work from a copy() initiailly\n",
    "cdf = results_df.copy()"
   ]
  },
  {
   "cell_type": "markdown",
   "id": "4ed0ead2-c649-48bf-9e43-878ea6a5aab0",
   "metadata": {},
   "source": [
    "#### Establish criteria for dropping columns\n",
    "\n",
    "* if column has > 70% null values, drop it."
   ]
  },
  {
   "cell_type": "code",
   "execution_count": 46,
   "id": "f6f08682-bb70-41ee-86e2-b441e04d0fbe",
   "metadata": {},
   "outputs": [],
   "source": [
    "def drop_nullcols(df, nullperc):\n",
    "\n",
    "    \"\"\" \n",
    "    Drops columns of a dataframe based on a percentage parameter for (# null rows / total rows). \n",
    "    \n",
    "    Returns list of dropped columns. \n",
    "    \n",
    "    \"\"\"\n",
    "\n",
    "    null_cols = []\n",
    "    for df_col in list(cdf.columns):\n",
    "        if len(cdf[cdf[df_col].isna()]) / len(cdf) >= nullperc:\n",
    "            null_cols.append(df_col)\n",
    "\n",
    "    cdf.drop(columns = null_cols, inplace = True)\n",
    "    \n",
    "    print(\"These are the dropped columns...\")\n",
    "    \n",
    "    return null_cols\n",
    "            "
   ]
  },
  {
   "cell_type": "code",
   "execution_count": 47,
   "id": "91113cf4-431f-462b-83f6-46f480e03da8",
   "metadata": {
    "tags": []
   },
   "outputs": [
    {
     "name": "stdout",
     "output_type": "stream",
     "text": [
      "These are the dropped columns...\n"
     ]
    },
    {
     "data": {
      "text/plain": [
       "[]"
      ]
     },
     "execution_count": 47,
     "metadata": {},
     "output_type": "execute_result"
    }
   ],
   "source": [
    "drop_nullcols(cdf, .7)"
   ]
  },
  {
   "cell_type": "markdown",
   "id": "c7097481-7c3b-4344-8946-76f5f5b2981e",
   "metadata": {},
   "source": [
    "#### III.ii - Standardizing key column values\n",
    "\n",
    "Columns of interest:\n",
    "\n",
    "* Aircraft Type\n",
    "* Autonomy Level\n",
    "* Powerplant\n",
    "* Range\n",
    "* Top Speed"
   ]
  },
  {
   "cell_type": "markdown",
   "id": "231420aa-a73e-4e82-a15d-9250299853ce",
   "metadata": {},
   "source": [
    "#### Aircraft Type"
   ]
  },
  {
   "cell_type": "code",
   "execution_count": 314,
   "id": "761255ad-402f-4cc9-93a5-09c760c1606b",
   "metadata": {
    "tags": []
   },
   "outputs": [],
   "source": [
    "\n",
    "def assign_actype(x):\n",
    "    \n",
    "    \"\"\" \n",
    "    df.apply(lambda x: ac_typer(x)) support function.\n",
    "    \n",
    "    Provides logic and return value for Aircraft Type value grouping.\n",
    "    \n",
    "    \"\"\"\n",
    "    \n",
    "    # ac_types = ['Winged VTOL', 'Wingless VTOL', 'STOL', 'Other']\n",
    "\n",
    "    # type conversion\n",
    "    x = str(x)\n",
    "\n",
    "    # Winged VTOL\n",
    "    if 'winged' in x.lower() and 'vtol' in x.lower():\n",
    "        x = 'Winged VTOL'\n",
    "    elif 'wingless' in x.lower() and 'vtol' in x.lower():\n",
    "        x = 'Wingless VTOL'\n",
    "    elif 'stol' in x.lower():\n",
    "        x = 'STOL'\n",
    "    else:\n",
    "        x = None\n",
    "        \n",
    "    return x"
   ]
  },
  {
   "cell_type": "markdown",
   "id": "45229cfa-4b92-4e14-93ad-9da803a608d6",
   "metadata": {},
   "source": [
    "#### run function, add new ac_type column"
   ]
  },
  {
   "cell_type": "code",
   "execution_count": 315,
   "id": "86134ffe-9ee0-47c6-beea-5852d37ce6c4",
   "metadata": {},
   "outputs": [],
   "source": [
    "# cdf['ac_type'] = cdf['Aircraft Type'].apply(lambda x: assign_actype(x))"
   ]
  },
  {
   "cell_type": "markdown",
   "id": "b82b8b59-a008-498b-8899-6268672d5223",
   "metadata": {},
   "source": [
    "\"\"\"\n",
    "\n",
    "Clean Aircraft Type category if necessary --\n",
    "\n",
    "* If 'Aircraft Type'.isna() == False:\n",
    "\n",
    "* Move the data into 'ac_type_detail' with lambda\n",
    "\n",
    "* After the lambda move:\n",
    "\n",
    "* If 'Aircraft Type'.isna() == len(df):\n",
    "\n",
    "* Delete the 'Aircraft Type' column\n",
    "\n",
    "\n",
    "\"\"\""
   ]
  },
  {
   "cell_type": "code",
   "execution_count": 50,
   "id": "74af99c2-0d9c-4a72-ab18-2a4f762ca287",
   "metadata": {},
   "outputs": [],
   "source": [
    "# cdf.rename(columns = {'Aircraft Type': 'ac_type_detail'}, inplace = True)\n",
    "# cdf.head(3)"
   ]
  },
  {
   "cell_type": "code",
   "execution_count": 51,
   "id": "d82d3902-7c8a-454b-82c2-3a4eb228d448",
   "metadata": {},
   "outputs": [
    {
     "data": {
      "text/plain": [
       "Winged VTOL      60\n",
       "Wingless VTOL    25\n",
       "STOL              2\n",
       "Name: ac_type, dtype: int64"
      ]
     },
     "execution_count": 51,
     "metadata": {},
     "output_type": "execute_result"
    }
   ],
   "source": [
    "cdf['ac_type'].value_counts()"
   ]
  },
  {
   "cell_type": "markdown",
   "id": "a9e8f226-758c-4ea4-ab6d-4685eabdd0ee",
   "metadata": {},
   "source": [
    "#### Send to .csv"
   ]
  },
  {
   "cell_type": "code",
   "execution_count": 318,
   "id": "bcc86021-8683-4198-86dc-d3d4d6e82e3f",
   "metadata": {},
   "outputs": [],
   "source": [
    "# # builds .csv with today's date\n",
    "# today = datetime.date.today()\n",
    "# cdf.to_csv('tu_results_df_{}.{}.{}.csv'.format(today.month, today.day, today.year))"
   ]
  },
  {
   "cell_type": "markdown",
   "id": "dc69b54e-2a5b-4053-b6bd-59c89e7f8609",
   "metadata": {},
   "source": [
    "#### Read in df after manual updates"
   ]
  },
  {
   "cell_type": "code",
   "execution_count": 52,
   "id": "c0363cde-4f53-494a-9515-d880811326bf",
   "metadata": {},
   "outputs": [],
   "source": [
    "# cdf = pd.read_csv('tu_results_df_7.11.2021.csv')\n",
    "# cdf.drop(columns = ['Unnamed: 0'], inplace = True)"
   ]
  },
  {
   "cell_type": "markdown",
   "id": "aafa8fd8-33af-4aab-9237-d8374317efa7",
   "metadata": {},
   "source": [
    "### Dev stage cleanup"
   ]
  },
  {
   "cell_type": "code",
   "execution_count": 54,
   "id": "7b9d6b86-454a-4ead-ab54-5289c97bd84c",
   "metadata": {},
   "outputs": [
    {
     "data": {
      "text/plain": [
       "False    87\n",
       "Name: dev_stage, dtype: int64"
      ]
     },
     "execution_count": 54,
     "metadata": {},
     "output_type": "execute_result"
    }
   ],
   "source": [
    "cdf['dev_stage'].isna().value_counts()"
   ]
  },
  {
   "cell_type": "code",
   "execution_count": 56,
   "id": "86a618f2-dc06-46d4-ac84-32d32c904ece",
   "metadata": {},
   "outputs": [],
   "source": [
    "def handle_null_devstage(df):\n",
    "    \n",
    "    \"\"\"\n",
    "    \n",
    "    Changes null values in dev_stage to 'prototype build' if they are in the 'market' category\n",
    "    \n",
    "    Rationale: \n",
    "    Market category is less watched, less publicized. So likely to be a project in its infancy.\n",
    "    \n",
    "    \"\"\"\n",
    "    \n",
    "    cdf = df\n",
    "    \n",
    "    # get indices for null dev_stage and 'category' == market\n",
    "    updi = np.where((cdf['dev_stage'].isna() == True) & (cdf['category'] == 'market'))\n",
    "    ind_upd = list(updi[0])\n",
    "\n",
    "    for i in ind_upd:\n",
    "        cdf['dev_stage'][i] = 'prototype build'\n",
    "\n"
   ]
  },
  {
   "cell_type": "code",
   "execution_count": 57,
   "id": "7a907bd1-9b5e-4747-975e-a42c081c2332",
   "metadata": {},
   "outputs": [
    {
     "data": {
      "text/plain": [
       "False    87\n",
       "Name: dev_stage, dtype: int64"
      ]
     },
     "execution_count": 57,
     "metadata": {},
     "output_type": "execute_result"
    }
   ],
   "source": [
    "handle_null_devstage(cdf)\n",
    "cdf['dev_stage'].isna().value_counts()"
   ]
  },
  {
   "cell_type": "code",
   "execution_count": 58,
   "id": "bc566b51-cd87-4cbb-a3a9-5bcfa5519571",
   "metadata": {},
   "outputs": [
    {
     "data": {
      "text/plain": [
       "prototype build       37\n",
       "flight testing        30\n",
       "preliminary design    15\n",
       "certification          5\n",
       "Name: dev_stage, dtype: int64"
      ]
     },
     "execution_count": 58,
     "metadata": {},
     "output_type": "execute_result"
    }
   ],
   "source": [
    "cdf['dev_stage'].value_counts()"
   ]
  },
  {
   "cell_type": "markdown",
   "id": "5c14a3f3-51d6-4746-9941-31d8f899f231",
   "metadata": {},
   "source": [
    "#### assign production stage from dev_stage data"
   ]
  },
  {
   "cell_type": "code",
   "execution_count": 60,
   "id": "007eb1d4-a09d-4c2f-8b45-07b449bddb81",
   "metadata": {},
   "outputs": [],
   "source": [
    "def assign_prodstage(x):\n",
    "    \n",
    "    \"\"\"\n",
    "    Takes a series object from df['dev_stage'] and returns the appropriate value for df['prod_stage'] \n",
    "    based on conversion logic set below. Update as needed.\n",
    "    \n",
    "    Prototype: prototype production\n",
    "\n",
    "    LRP: low rate production\n",
    "\n",
    "    FRP: full rate production\n",
    "    \n",
    "    \n",
    "    \"\"\"\n",
    "    \n",
    "    dev_stages = ['prototype build', \n",
    "                    'flight testing', \n",
    "                    'preliminary design', \n",
    "                    'certification', \n",
    "                    'commercially operating']\n",
    "    \n",
    "    # assignment values for dev_stage to prod_stage key\n",
    "    newdvals = [1, 1, 0, 2, 3]\n",
    "    dev_stage_numdict = {key: val for key, val in zip(dev_stages, newdvals)}\n",
    "\n",
    "    prod_stages = ['prototype production', 'lrp', 'frp']\n",
    "    # assign key:val for dev_stage to prod_stage conversion\n",
    "    prod_stage_dict = {0: 'pre production', 1: 'prototype production', 2: 'lrp', 3: 'frp'}\n",
    "\n",
    "    if x in dev_stage_numdict:\n",
    "        return prod_stage_dict[dev_stage_numdict[x]]"
   ]
  },
  {
   "cell_type": "code",
   "execution_count": 61,
   "id": "341760c8-f8d4-4ddc-b239-fa3df7ff22f5",
   "metadata": {},
   "outputs": [],
   "source": [
    "# cdf['prod_stage'] = cdf['dev_stage'].apply(lambda x: assign_prodstage(x))"
   ]
  },
  {
   "cell_type": "code",
   "execution_count": 62,
   "id": "7ba69138-067f-45b3-9f81-e1f670d9d2b7",
   "metadata": {},
   "outputs": [
    {
     "data": {
      "text/plain": [
       "prototype production    67\n",
       "pre production          15\n",
       "lrp                      5\n",
       "Name: prod_stage, dtype: int64"
      ]
     },
     "execution_count": 62,
     "metadata": {},
     "output_type": "execute_result"
    }
   ],
   "source": [
    "cdf['prod_stage'].value_counts()"
   ]
  },
  {
   "cell_type": "markdown",
   "id": "313bbc0e-3cec-4144-af34-c787001eff64",
   "metadata": {},
   "source": [
    "#### Powerplant column"
   ]
  },
  {
   "cell_type": "code",
   "execution_count": 63,
   "id": "33f30457-bdcf-4fab-ac09-af312a03205a",
   "metadata": {},
   "outputs": [
    {
     "data": {
      "text/plain": [
       "All-electric        8\n",
       ": All-Electric      7\n",
       " All-Electric       5\n",
       " All-Electric       2\n",
       "All-Electric        2\n",
       " Hybrid-Electric    2\n",
       "Name: Powerplant, dtype: int64"
      ]
     },
     "execution_count": 63,
     "metadata": {},
     "output_type": "execute_result"
    }
   ],
   "source": [
    "plant_counts = cdf['Powerplant'].value_counts()\n",
    "plant_counts[ plant_counts > 1]"
   ]
  },
  {
   "cell_type": "code",
   "execution_count": 65,
   "id": "cadc39be-f16f-48b8-b1f7-fcc28f0fe609",
   "metadata": {},
   "outputs": [],
   "source": [
    "def assign_pplant(x):\n",
    "    \n",
    "    \"\"\" \n",
    "    df.apply(lambda x: x) support function\n",
    "    \n",
    "    Provides logic and return value for power plant category value grouping.\n",
    "    \n",
    "    \"\"\"\n",
    "    \n",
    "    plant_cats = ['electric', 'hybrid electric', 'undisclosed']\n",
    "\n",
    "    # type conversion\n",
    "    x = str(x)\n",
    "\n",
    "    # Winged VTOL\n",
    "    if 'hybrid' in x.lower():\n",
    "        # hybrid electric index 1\n",
    "        x = plant_cats[1]\n",
    "    elif 'hybrid' not in x.lower() and 'electric' in x.lower():\n",
    "        # all electric index 0\n",
    "        x = plant_cats[0]\n",
    "    else:\n",
    "        # undisclosed\n",
    "        x = plant_cats[2]\n",
    "        \n",
    "    return x"
   ]
  },
  {
   "cell_type": "code",
   "execution_count": 66,
   "id": "1b2ecaa0-65cf-45cf-88f1-88a56379e4c6",
   "metadata": {},
   "outputs": [
    {
     "data": {
      "text/plain": [
       "undisclosed        35\n",
       "electric           33\n",
       "hybrid electric    19\n",
       "Name: powerplant_category, dtype: int64"
      ]
     },
     "execution_count": 66,
     "metadata": {},
     "output_type": "execute_result"
    }
   ],
   "source": [
    "# cdf['powerplant_category'] = cdf['Powerplant'].apply(lambda x: assign_pplant(x))\n",
    "cdf['powerplant_category'].value_counts()"
   ]
  },
  {
   "cell_type": "markdown",
   "id": "a2cd59b5-bce0-4c62-9f06-be99fbee1ce6",
   "metadata": {},
   "source": [
    "#### autonomy col"
   ]
  },
  {
   "cell_type": "code",
   "execution_count": 67,
   "id": "8962a751-6193-429d-8935-8c8236f349e8",
   "metadata": {},
   "outputs": [],
   "source": [
    "def assign_autonlevel(x):\n",
    "    \n",
    "    \"\"\" \n",
    "    df.apply(lambda x: x) support function\n",
    "    \n",
    "    Provides logic and return value for autonomy level category value grouping.\n",
    "    \n",
    "    \"\"\"\n",
    "    \n",
    "    auto_cats = ['semi autonomous', 'autonomous', 'piloted semi autonomous', 'piloted', 'undisclosed']\n",
    "\n",
    "    # type conversion\n",
    "    x = str(x)\n",
    "\n",
    "    if 'semi' in x.lower() and 'pilot' not in x.lower():\n",
    "        x = auto_cats[0]\n",
    "\n",
    "    elif 'autonomous' in x.lower() and 'semi' not in x.lower():    \n",
    "        x = auto_cats[1]\n",
    "        \n",
    "    elif 'pilot' in x.lower() and 'semi' in x.lower():    \n",
    "        x = auto_cats[2]\n",
    "\n",
    "    elif x.lower() == 'piloted':\n",
    "        x = auto_cats[3]\n",
    "        \n",
    "    else:\n",
    "        # undisclosed\n",
    "        x = auto_cats[4]\n",
    "        \n",
    "    return x"
   ]
  },
  {
   "cell_type": "code",
   "execution_count": 68,
   "id": "0e0c84b3-274e-47a0-9b20-fe0713185f04",
   "metadata": {},
   "outputs": [
    {
     "data": {
      "text/plain": [
       "undisclosed                42\n",
       "autonomous                 18\n",
       "semi autonomous            16\n",
       "piloted                     6\n",
       "piloted semi autonomous     5\n",
       "Name: autonomous level, dtype: int64"
      ]
     },
     "execution_count": 68,
     "metadata": {},
     "output_type": "execute_result"
    }
   ],
   "source": [
    "# cdf['autonomous level'] = cdf['Autonomy Level'].apply(lambda x: assign_autonlevel(x))\n",
    "cdf['autonomous level'].value_counts()"
   ]
  },
  {
   "cell_type": "markdown",
   "id": "b64c9df8-e2bf-4ec1-9ebf-c5263a8c9dbc",
   "metadata": {},
   "source": [
    "#### Update .csv"
   ]
  },
  {
   "cell_type": "code",
   "execution_count": 69,
   "id": "2ee96582-f8af-4703-ac27-6a0b028c1b53",
   "metadata": {},
   "outputs": [],
   "source": [
    "# builds .csv with today's date\n",
    "today = datetime.date.today()\n",
    "cdf.to_csv('tu_results_df_{}.{}.{}.csv'.format(today.month, today.day, today.year))"
   ]
  }
 ],
 "metadata": {
  "kernelspec": {
   "display_name": "Python 3.7.4 64-bit",
   "language": "python",
   "name": "python37464bit3397ac0b095f4cc6a08861c5ba8318fd"
  },
  "language_info": {
   "codemirror_mode": {
    "name": "ipython",
    "version": 3
   },
   "file_extension": ".py",
   "mimetype": "text/x-python",
   "name": "python",
   "nbconvert_exporter": "python",
   "pygments_lexer": "ipython3",
   "version": "3.7.4"
  }
 },
 "nbformat": 4,
 "nbformat_minor": 5
}
